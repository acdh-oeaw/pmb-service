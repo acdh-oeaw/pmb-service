{
 "cells": [
  {
   "cell_type": "code",
   "execution_count": null,
   "id": "d7335a42",
   "metadata": {},
   "outputs": [],
   "source": [
    "from django.core.exceptions import ObjectDoesNotExist\n",
    "from acdh_tei_pyutils.tei import TeiReader\n",
    "from acdh_tei_pyutils.utils import get_xmlid\n",
    "from tqdm import tqdm"
   ]
  },
  {
   "cell_type": "code",
   "execution_count": null,
   "id": "dd68245d",
   "metadata": {},
   "outputs": [],
   "source": [
    "source_file = \"https://github.com/semantic-kraus/fa-data/raw/main/data/indices/listperson.xml\""
   ]
  },
  {
   "cell_type": "code",
   "execution_count": null,
   "id": "570aec42",
   "metadata": {},
   "outputs": [],
   "source": [
    "doc = TeiReader(source_file)"
   ]
  },
  {
   "cell_type": "code",
   "execution_count": null,
   "id": "070e76d4",
   "metadata": {},
   "outputs": [],
   "source": [
    "nsmap = doc.nsmap\n",
    "base_url = \"https://fackel.oeaw.ac.at/?p=fackelp\"\n",
    "domain = \"fackel\"\n",
    "col, _ = Collection.objects.get_or_create(name=\"neue fackel personen\")\n",
    "geboren_in = PersonPlaceRelation.objects.filter(name=\"geboren in\").first()\n",
    "gestorben_in = PersonPlaceRelation.objects.filter(name=\"gestorben in\").first()"
   ]
  },
  {
   "cell_type": "code",
   "execution_count": null,
   "id": "b6d54fa4",
   "metadata": {},
   "outputs": [],
   "source": [
    "to_create = []\n",
    "for x in tqdm(doc.any_xpath(\".//tei:person[@xml:id]\")):\n",
    "    entity = False\n",
    "    xml_id = get_xmlid(x)\n",
    "    fackel_uri = f\"{base_url}{xml_id[2:]}\"\n",
    "    try:\n",
    "        uri = Uri.objects.get(uri=fackel_uri)\n",
    "        continue\n",
    "    except ObjectDoesNotExist:\n",
    "        name = x.xpath(\".//tei:persName/text()\", namespaces=nsmap)[0]\n",
    "        first_name = \"\"\n",
    "        if \", \" in name:\n",
    "            try:\n",
    "                name, first_name = name.split(\", \")\n",
    "            except ValueError:\n",
    "                name = name\n",
    "        try:\n",
    "            gender = x.xpath(\".//tei:sex/@value\", namespaces=nsmap)[0]\n",
    "        except IndexError:\n",
    "            gender = \"\"\n",
    "        try:\n",
    "            start_date_written = x.xpath(\".//tei:birth/@when\", namespaces=nsmap)[0]\n",
    "        except IndexError:\n",
    "            start_date_written = \"\"\n",
    "        try:\n",
    "            end_date_written = x.xpath(\".//tei:death/@when\", namespaces=nsmap)[0]\n",
    "        except IndexError:\n",
    "            end_date_written = \"\"\n",
    "        entity = {\n",
    "            \"name\": name,\n",
    "            \"first_name\": first_name,\n",
    "            \"start_date_written\": start_date_written,\n",
    "            \"end_date_written\": end_date_written,\n",
    "            \"gender\": gender\n",
    "        }\n",
    "        \n",
    "            \n",
    "        person = Person.objects.create(**entity)\n",
    "        person.collection.add(col)\n",
    "        ent_uri = Uri.objects.create(uri=fackel_uri, domain=domain, entity=person)\n",
    "        for job in x.xpath(\".//tei:occupation/text()\", namespaces=nsmap):\n",
    "            profession = ProfessionType.objects.filter(name__startswith=job).first()\n",
    "            if profession:\n",
    "                person.profession.add(profession)\n",
    "        \n",
    "        try:\n",
    "            birth_place_name = x.xpath(\".//tei:birth/tei:placeName/text()\", namespaces=nsmap)[0]\n",
    "        except IndexError:\n",
    "            birth_place_name = False\n",
    "        if birth_place_name:\n",
    "            birth_place = Place.objects.filter(name=birth_place_name).first()\n",
    "        else:\n",
    "            birth_place = False\n",
    "        if birth_place:\n",
    "            person_place = PersonPlace.objects.create(\n",
    "                related_person=person,\n",
    "                related_place=birth_place,\n",
    "                start_date_written=start_date_written,\n",
    "                relation_type=geboren_in\n",
    "            )\n",
    "        \n",
    "        try:\n",
    "            death_place_name = x.xpath(\".//tei:death/tei:placeName/text()\", namespaces=nsmap)[0]\n",
    "        except IndexError:\n",
    "            death_place_name = False\n",
    "        if death_place_name:\n",
    "            death_place = Place.objects.filter(name=death_place_name).first()\n",
    "        else:\n",
    "            death_place = False\n",
    "        if death_place:\n",
    "            person_place = PersonPlace.objects.create(\n",
    "                related_person=person,\n",
    "                related_place=death_place,\n",
    "                start_date_written=start_date_written,\n",
    "                relation_type=gestorben_in\n",
    "            )        "
   ]
  },
  {
   "cell_type": "code",
   "execution_count": null,
   "id": "0e9813bd",
   "metadata": {},
   "outputs": [],
   "source": []
  }
 ],
 "metadata": {
  "kernelspec": {
   "display_name": "venv",
   "language": "python",
   "name": "python3"
  },
  "language_info": {
   "codemirror_mode": {
    "name": "ipython",
    "version": 3
   },
   "file_extension": ".py",
   "mimetype": "text/x-python",
   "name": "python",
   "nbconvert_exporter": "python",
   "pygments_lexer": "ipython3",
   "version": "3.10.12"
  }
 },
 "nbformat": 4,
 "nbformat_minor": 5
}

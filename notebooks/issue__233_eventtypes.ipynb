{
 "cells": [
  {
   "cell_type": "code",
   "execution_count": null,
   "id": "f18c074c-f0be-4591-a38c-b701afb4129b",
   "metadata": {},
   "outputs": [],
   "source": [
    "import pandas as pd"
   ]
  },
  {
   "cell_type": "code",
   "execution_count": null,
   "id": "c6a07e35-4799-47fd-a09f-b0a0c5c61f79",
   "metadata": {},
   "outputs": [],
   "source": [
    "data = []\n",
    "for x in EventType.objects.all():\n",
    "    item = {}\n",
    "    item[\"id\"] = x.id\n",
    "    item[\"name\"] = x.name\n",
    "    item[\"used\"] = Event.objects.filter(kind=x).count()\n",
    "    data.append(item)"
   ]
  },
  {
   "cell_type": "code",
   "execution_count": null,
   "id": "396ebbff-1e4e-462c-a9b5-5002f4f7a53e",
   "metadata": {},
   "outputs": [],
   "source": [
    "df = pd.DataFrame(data)\n",
    "df.to_csv(\"event-types.csv\", index=False)"
   ]
  },
  {
   "cell_type": "code",
   "execution_count": null,
   "id": "a0aa9d7f-2e09-48e6-8730-6e44e863952c",
   "metadata": {},
   "outputs": [],
   "source": []
  }
 ],
 "metadata": {
  "kernelspec": {
   "display_name": "Django Shell-Plus",
   "language": "python",
   "name": "django_extensions"
  },
  "language_info": {
   "codemirror_mode": {
    "name": "ipython",
    "version": 3
   },
   "file_extension": ".py",
   "mimetype": "text/x-python",
   "name": "python",
   "nbconvert_exporter": "python",
   "pygments_lexer": "ipython3",
   "version": "3.12.3"
  }
 },
 "nbformat": 4,
 "nbformat_minor": 5
}

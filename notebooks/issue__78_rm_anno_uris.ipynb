{
 "cells": [
  {
   "cell_type": "markdown",
   "id": "8cf560f5",
   "metadata": {},
   "source": [
    "executed 2024-01-28"
   ]
  },
  {
   "cell_type": "code",
   "execution_count": null,
   "id": "2fe08400",
   "metadata": {},
   "outputs": [],
   "source": [
    "uris = Uri.objects.filter(domain=\"anno\")\n",
    "uris.count()"
   ]
  },
  {
   "cell_type": "code",
   "execution_count": null,
   "id": "08522f35",
   "metadata": {},
   "outputs": [],
   "source": [
    "for x in uris:\n",
    "    x.delete()\n",
    "Uri.objects.filter(domain=\"anno\").count()"
   ]
  }
 ],
 "metadata": {
  "kernelspec": {
   "display_name": "Django Shell-Plus",
   "language": "python",
   "name": "django_extensions"
  },
  "language_info": {
   "codemirror_mode": {
    "name": "ipython",
    "version": 3
   },
   "file_extension": ".py",
   "mimetype": "text/x-python",
   "name": "python",
   "nbconvert_exporter": "python",
   "pygments_lexer": "ipython3",
   "version": "3.10.12"
  }
 },
 "nbformat": 4,
 "nbformat_minor": 5
}

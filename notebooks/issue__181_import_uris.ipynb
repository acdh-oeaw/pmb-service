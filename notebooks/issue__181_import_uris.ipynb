{
 "cells": [
  {
   "cell_type": "code",
   "execution_count": null,
   "id": "a1d2f86e",
   "metadata": {},
   "outputs": [],
   "source": [
    "# 2024-04-26 run against production\n",
    "from tqdm.notebook import tqdm\n",
    "from dumper.utils import gsheet_to_df\n",
    "from django.db import IntegrityError\n",
    "\n",
    "from apis_core.utils import get_object_from_pk_or_uri\n"
   ]
  },
  {
   "cell_type": "code",
   "execution_count": null,
   "id": "b83e3a0d",
   "metadata": {},
   "outputs": [],
   "source": [
    "df = gsheet_to_df(\"1prs6ih08rQ5-n4OXotfMp6RMTWBDIYKtD-MF9sQ3Mwo\")"
   ]
  },
  {
   "cell_type": "code",
   "execution_count": null,
   "id": "46dc7464",
   "metadata": {},
   "outputs": [],
   "source": [
    "df.head()"
   ]
  },
  {
   "cell_type": "code",
   "execution_count": null,
   "id": "2123b4c4",
   "metadata": {},
   "outputs": [],
   "source": [
    "already_there = []\n",
    "for i, row in tqdm(df.iterrows(), total=len(df)):\n",
    "    try:\n",
    "        pmb_id = int(row[\"PMB\"])\n",
    "    except ValueError:\n",
    "        continue\n",
    "    domain = row[\"Domain\"]\n",
    "    uri = row[\"URI\"]\n",
    "    entity = get_object_from_pk_or_uri(pmb_id)\n",
    "    try:\n",
    "        uri_obj, _ = Uri.objects.get_or_create(\n",
    "            uri=uri,\n",
    "            domain=domain,\n",
    "            entity=entity\n",
    "        )\n",
    "    except IntegrityError:\n",
    "        already_there.append(uri)\n",
    "        "
   ]
  },
  {
   "cell_type": "code",
   "execution_count": null,
   "id": "bf6bd6d6",
   "metadata": {},
   "outputs": [],
   "source": [
    "for x in already_there:\n",
    "    print(x)"
   ]
  },
  {
   "cell_type": "code",
   "execution_count": null,
   "id": "9e846928",
   "metadata": {},
   "outputs": [],
   "source": []
  }
 ],
 "metadata": {
  "kernelspec": {
   "display_name": "Django Shell-Plus",
   "language": "python",
   "name": "django_extensions"
  },
  "language_info": {
   "codemirror_mode": {
    "name": "ipython",
    "version": 3
   },
   "file_extension": ".py",
   "mimetype": "text/x-python",
   "name": "python",
   "nbconvert_exporter": "python",
   "pygments_lexer": "ipython3",
   "version": "3.10.12"
  }
 },
 "nbformat": 4,
 "nbformat_minor": 5
}

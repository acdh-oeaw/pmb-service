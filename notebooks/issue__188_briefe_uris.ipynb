{
 "cells": [
  {
   "cell_type": "code",
   "execution_count": null,
   "id": "ba8fedd0",
   "metadata": {},
   "outputs": [],
   "source": [
    "# 2024-05-02 run against production\n",
    "from tqdm import tqdm\n",
    "from dumper.utils import gsheet_to_df\n",
    "from apis_core.utils import get_object_from_pk_or_uri"
   ]
  },
  {
   "cell_type": "code",
   "execution_count": null,
   "id": "1da8e52f",
   "metadata": {},
   "outputs": [],
   "source": [
    "uris = Uri.objects.filter(uri__icontains=\"schnitzler-briefe.acdh.oeaw.ac.at/pmb\")\n",
    "uris.count()"
   ]
  },
  {
   "cell_type": "code",
   "execution_count": null,
   "id": "d72e13cf",
   "metadata": {},
   "outputs": [],
   "source": [
    "for x in tqdm(uris, total=uris.count()):\n",
    "    x.delete()\n",
    "uris = Uri.objects.filter(uri__icontains=\"schnitzler-briefe.acdh.oeaw.ac.at\")\n",
    "uris.count()"
   ]
  },
  {
   "cell_type": "code",
   "execution_count": null,
   "id": "540b4e40",
   "metadata": {},
   "outputs": [],
   "source": [
    "df = gsheet_to_df(\"1VXXj7tc4sy52KpV_II4gIYmVUQ-lSLi-S8XqBsBMlCE\")"
   ]
  },
  {
   "cell_type": "code",
   "execution_count": null,
   "id": "9534a5cd",
   "metadata": {},
   "outputs": [],
   "source": [
    "df.head(3)"
   ]
  },
  {
   "cell_type": "code",
   "execution_count": null,
   "id": "76db6ce8",
   "metadata": {},
   "outputs": [],
   "source": [
    "for i, row in tqdm(df.iterrows(), total=len(df)):\n",
    "    try:\n",
    "        entity = get_object_from_pk_or_uri(row[\"PMB\"])\n",
    "    except Exception as e:\n",
    "        print(row[\"PMB\"], e)\n",
    "        continue\n",
    "    uri, _ = Uri.objects.get_or_create(\n",
    "        uri=row[\"URI\"],\n",
    "        domain=\"schnitzler-briefe\",\n",
    "        entity=entity\n",
    "    )\n",
    "    "
   ]
  },
  {
   "cell_type": "code",
   "execution_count": null,
   "id": "e44bd22c",
   "metadata": {},
   "outputs": [],
   "source": []
  }
 ],
 "metadata": {
  "kernelspec": {
   "display_name": "Django Shell-Plus",
   "language": "python",
   "name": "django_extensions"
  },
  "language_info": {
   "codemirror_mode": {
    "name": "ipython",
    "version": 3
   },
   "file_extension": ".py",
   "mimetype": "text/x-python",
   "name": "python",
   "nbconvert_exporter": "python",
   "pygments_lexer": "ipython3",
   "version": "3.10.12"
  }
 },
 "nbformat": 4,
 "nbformat_minor": 5
}

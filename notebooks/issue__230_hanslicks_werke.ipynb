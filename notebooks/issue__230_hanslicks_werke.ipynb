{
 "cells": [
  {
   "cell_type": "code",
   "execution_count": null,
   "id": "16556ed2-f178-4edd-9c4c-5639fbdcc851",
   "metadata": {},
   "outputs": [],
   "source": [
    "# run against production 2024-10-30\n",
    "import pandas as pd\n",
    "import requests\n",
    "from tqdm import tqdm\n",
    "\n",
    "from normdata.utils import import_from_normdata"
   ]
  },
  {
   "cell_type": "code",
   "execution_count": null,
   "id": "6dcbb6ef-dfa6-4ff9-b256-c3a4ce35a5bd",
   "metadata": {},
   "outputs": [],
   "source": [
    "orig_data = requests.get(\"https://raw.githubusercontent.com/Hanslick-Online/hsl-entities/refs/heads/main/json_dumps/Werke.json\").json()"
   ]
  },
  {
   "cell_type": "code",
   "execution_count": null,
   "id": "8a5b780c-4cb6-4298-8115-3821bd8e08a9",
   "metadata": {},
   "outputs": [],
   "source": [
    "col, _ = Collection.objects.get_or_create(name=\"Hanslick\")\n",
    "domain = \"hanslick-online\""
   ]
  },
  {
   "cell_type": "code",
   "execution_count": null,
   "id": "95db218e-6b72-4451-aa80-4b66af239d31",
   "metadata": {
    "scrolled": true
   },
   "outputs": [],
   "source": [
    "failed = []\n",
    "for key, value in tqdm(orig_data.items(), total=len(orig_data)):\n",
    "    gnd = value[\"gnd\"]\n",
    "    url = f\"https://hanslick.acdh.oeaw.ac.at/{value['hsl_id']}.html\"\n",
    "    if gnd:\n",
    "        try:\n",
    "            entity = import_from_normdata(gnd, 'work')\n",
    "        except Exception as e:\n",
    "            failed.append([gnd, e])\n",
    "            continue\n",
    "        if entity:\n",
    "            entity.collection.add(col)\n",
    "            uri, _ = Uri.objects.get_or_create(\n",
    "                uri=url,\n",
    "                domain=domain,\n",
    "                entity=entity\n",
    "            )\n",
    "            \n",
    "        "
   ]
  },
  {
   "cell_type": "code",
   "execution_count": null,
   "id": "67be47c8-5a4f-4d94-98b2-61d2cd6364bd",
   "metadata": {},
   "outputs": [],
   "source": [
    "for x in failed:\n",
    "    print(x)"
   ]
  },
  {
   "cell_type": "code",
   "execution_count": null,
   "id": "6bab1da9-9d5b-4531-b63b-f8b9ae230add",
   "metadata": {},
   "outputs": [],
   "source": []
  }
 ],
 "metadata": {
  "kernelspec": {
   "display_name": "Django Shell-Plus",
   "language": "python",
   "name": "django_extensions"
  },
  "language_info": {
   "codemirror_mode": {
    "name": "ipython",
    "version": 3
   },
   "file_extension": ".py",
   "mimetype": "text/x-python",
   "name": "python",
   "nbconvert_exporter": "python",
   "pygments_lexer": "ipython3",
   "version": "3.12.3"
  }
 },
 "nbformat": 4,
 "nbformat_minor": 5
}

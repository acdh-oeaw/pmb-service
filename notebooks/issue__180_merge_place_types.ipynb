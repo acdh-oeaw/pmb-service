{
 "cells": [
  {
   "cell_type": "code",
   "execution_count": null,
   "id": "f47bcd68",
   "metadata": {},
   "outputs": [],
   "source": [
    "# run against production 2024-04-18\n",
    "import pandas as pd"
   ]
  },
  {
   "cell_type": "code",
   "execution_count": null,
   "id": "f820cd7f",
   "metadata": {},
   "outputs": [],
   "source": [
    "props = [\"id\", \"name\"]       "
   ]
  },
  {
   "cell_type": "code",
   "execution_count": null,
   "id": "fe06fca6",
   "metadata": {},
   "outputs": [],
   "source": [
    "df = pd.DataFrame(\n",
    "    PlaceType.objects.all().values_list(*props),\n",
    "    columns=props,\n",
    ").astype(\"str\")"
   ]
  },
  {
   "cell_type": "code",
   "execution_count": null,
   "id": "e6c74cfd",
   "metadata": {},
   "outputs": [],
   "source": [
    "df"
   ]
  },
  {
   "cell_type": "code",
   "execution_count": null,
   "id": "9c0cca8a",
   "metadata": {},
   "outputs": [],
   "source": [
    "to_process = []\n",
    "for g, ndf in df.groupby(\"name\"):\n",
    "    if len(ndf) > 1:\n",
    "        to_process.append([int(x) for x in ndf['id'].tolist()])\n",
    "        "
   ]
  },
  {
   "cell_type": "code",
   "execution_count": null,
   "id": "0a73dbb6",
   "metadata": {},
   "outputs": [],
   "source": [
    "len(to_process)"
   ]
  },
  {
   "cell_type": "code",
   "execution_count": null,
   "id": "fd48e0e6",
   "metadata": {},
   "outputs": [],
   "source": [
    "print(f\"Nr. of place types before: {PlaceType.objects.all().count()}\")\n",
    "for x in to_process:\n",
    "    good_type = PlaceType.objects.get(id=x[0])\n",
    "    bad_type = PlaceType.objects.get(id=x[1])\n",
    "    bad_type_base = VocabsBaseClass.objects.get(id=x[1])\n",
    "    for place in Place.objects.filter(kind=bad_type):\n",
    "        place.kind = good_type\n",
    "        place.save()\n",
    "    bad_type_base.delete()\n",
    "print(f\"Nr. of place types after: {PlaceType.objects.all().count()}\")\n"
   ]
  },
  {
   "cell_type": "code",
   "execution_count": null,
   "id": "bd2993ae",
   "metadata": {},
   "outputs": [],
   "source": [
    "PlaceType.objects.filter(name=\"A.ADM1\")"
   ]
  },
  {
   "cell_type": "code",
   "execution_count": null,
   "id": "313cea39",
   "metadata": {},
   "outputs": [],
   "source": []
  }
 ],
 "metadata": {
  "kernelspec": {
   "display_name": "Django Shell-Plus",
   "language": "python",
   "name": "django_extensions"
  },
  "language_info": {
   "codemirror_mode": {
    "name": "ipython",
    "version": 3
   },
   "file_extension": ".py",
   "mimetype": "text/x-python",
   "name": "python",
   "nbconvert_exporter": "python",
   "pygments_lexer": "ipython3",
   "version": "3.10.12"
  }
 },
 "nbformat": 4,
 "nbformat_minor": 5
}

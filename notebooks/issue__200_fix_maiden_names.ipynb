{
 "cells": [
  {
   "cell_type": "code",
   "execution_count": 1,
   "id": "847b25fd",
   "metadata": {},
   "outputs": [],
   "source": [
    "from tqdm import tqdm"
   ]
  },
  {
   "cell_type": "code",
   "execution_count": 2,
   "id": "9df0bb47",
   "metadata": {},
   "outputs": [],
   "source": [
    "label_type = LabelType.objects.get(id=96)"
   ]
  },
  {
   "cell_type": "code",
   "execution_count": 3,
   "id": "368335d8",
   "metadata": {},
   "outputs": [],
   "source": [
    "items = Person.objects.filter(name__icontains=\", geb.\")"
   ]
  },
  {
   "cell_type": "code",
   "execution_count": 4,
   "id": "38567af3",
   "metadata": {},
   "outputs": [
    {
     "data": {
      "text/plain": [
       "235"
      ]
     },
     "execution_count": 4,
     "metadata": {},
     "output_type": "execute_result"
    }
   ],
   "source": [
    "items.count()"
   ]
  },
  {
   "cell_type": "code",
   "execution_count": 5,
   "id": "37621589",
   "metadata": {},
   "outputs": [
    {
     "name": "stderr",
     "output_type": "stream",
     "text": [
      "100%|████████████████████████████████████████████████████████████████████████████████████████████████| 235/235 [00:13<00:00, 18.05it/s]\n"
     ]
    }
   ],
   "source": [
    "ids = set()\n",
    "for x in tqdm(items):\n",
    "    ids.add(x.id)\n",
    "    name, maiden_name = x.name.split(\", geb.\")\n",
    "    try:\n",
    "        name, first_name = name.split(\", \")\n",
    "    except ValueError:\n",
    "        first_name = name.split(\", \")[1]\n",
    "    maiden_name = maiden_name.strip()\n",
    "    label = Label.objects.create(\n",
    "        label=maiden_name,\n",
    "        label_type=label_type,\n",
    "        temp_entity=x\n",
    "    )\n",
    "    x.name = name\n",
    "    x.first_name = first_name\n",
    "    x.save()\n",
    "    "
   ]
  },
  {
   "cell_type": "code",
   "execution_count": 6,
   "id": "a138be41",
   "metadata": {},
   "outputs": [
    {
     "data": {
      "text/plain": [
       "<LabelType: Person_Geburtsname_Nachname>"
      ]
     },
     "execution_count": 6,
     "metadata": {},
     "output_type": "execute_result"
    }
   ],
   "source": [
    "label_type"
   ]
  },
  {
   "cell_type": "code",
   "execution_count": null,
   "id": "31f54593",
   "metadata": {},
   "outputs": [],
   "source": []
  }
 ],
 "metadata": {
  "kernelspec": {
   "display_name": "Django Shell-Plus",
   "language": "python",
   "name": "django_extensions"
  },
  "language_info": {
   "codemirror_mode": {
    "name": "ipython",
    "version": 3
   },
   "file_extension": ".py",
   "mimetype": "text/x-python",
   "name": "python",
   "nbconvert_exporter": "python",
   "pygments_lexer": "ipython3",
   "version": "3.10.12"
  }
 },
 "nbformat": 4,
 "nbformat_minor": 5
}

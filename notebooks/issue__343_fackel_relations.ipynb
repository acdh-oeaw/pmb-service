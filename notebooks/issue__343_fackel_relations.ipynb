{
 "cells": [
  {
   "cell_type": "code",
   "execution_count": null,
   "id": "47117b86-59f9-435b-9525-08d12fd0593c",
   "metadata": {},
   "outputs": [],
   "source": [
    "# run against production 2025-06-02\n",
    "from tqdm import tqdm"
   ]
  },
  {
   "cell_type": "code",
   "execution_count": null,
   "id": "4ec6733e-d615-426a-aac9-a3f36040f5cb",
   "metadata": {},
   "outputs": [],
   "source": [
    "fackel_cols = Collection.objects.filter(name__icontains=\"fackel\")"
   ]
  },
  {
   "cell_type": "code",
   "execution_count": null,
   "id": "71568ebc-925b-4215-b6a8-1c520cff4303",
   "metadata": {
    "scrolled": true
   },
   "outputs": [],
   "source": [
    "fackel_persons = Person.objects.filter(collection__in=fackel_cols)"
   ]
  },
  {
   "cell_type": "code",
   "execution_count": null,
   "id": "706f9502-3884-4c95-ad37-3b00472e75f3",
   "metadata": {},
   "outputs": [],
   "source": [
    "persons = PersonPlace.objects.filter(related_person__in=fackel_persons).filter(relation_type__name__icontains=\"gestorben\")"
   ]
  },
  {
   "cell_type": "code",
   "execution_count": null,
   "id": "32cd33e5-e648-4bb7-99a8-34c9e787d0c3",
   "metadata": {},
   "outputs": [],
   "source": [
    "values_list = [\"id\", \"related_person__id\", \"related_person__start_date_written\", \"related_person__end_date_written\", \"start_date_written\"]"
   ]
  },
  {
   "cell_type": "code",
   "execution_count": null,
   "id": "a594c5b4-08bb-4c8e-805e-66165dfe4ab4",
   "metadata": {},
   "outputs": [],
   "source": [
    "for x in tqdm(persons):\n",
    "    use_this_date = \"\"\n",
    "    if x.related_person.end_date_written:\n",
    "        use_this_date = x.related_person.end_date_written\n",
    "    x.start_date_written = use_this_date\n",
    "    x.save()"
   ]
  }
 ],
 "metadata": {
  "kernelspec": {
   "display_name": "Django Shell-Plus",
   "language": "python",
   "name": "django_extensions"
  },
  "language_info": {
   "codemirror_mode": {
    "name": "ipython",
    "version": 3
   },
   "file_extension": ".py",
   "mimetype": "text/x-python",
   "name": "python",
   "nbconvert_exporter": "python",
   "pygments_lexer": "ipython3",
   "version": "3.12.3"
  }
 },
 "nbformat": 4,
 "nbformat_minor": 5
}

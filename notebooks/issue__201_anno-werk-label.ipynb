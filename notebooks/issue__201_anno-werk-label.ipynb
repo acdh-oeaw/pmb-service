{
 "cells": [
  {
   "cell_type": "code",
   "execution_count": null,
   "id": "8805aeea-fff2-4d00-87bd-41e17db1d034",
   "metadata": {},
   "outputs": [],
   "source": [
    "# 2025-03-17 run against production\n",
    "new_label_type = LabelType.objects.get(id=1214)\n",
    "new_label_type"
   ]
  },
  {
   "cell_type": "code",
   "execution_count": null,
   "id": "03ad6e86-4b43-49fa-a422-d282c74b1a8a",
   "metadata": {},
   "outputs": [],
   "source": [
    "items = Label.objects.filter(label_type__name=\"Anno\")\n",
    "items.count()"
   ]
  },
  {
   "cell_type": "code",
   "execution_count": null,
   "id": "7f44c64f-4b24-42a9-9086-f2feff39eeda",
   "metadata": {},
   "outputs": [],
   "source": [
    "for x in items:\n",
    "    x.label_type = new_label_type\n",
    "    x.save()"
   ]
  },
  {
   "cell_type": "code",
   "execution_count": null,
   "id": "8703df08-40e6-430d-acfa-67d416fedc6f",
   "metadata": {},
   "outputs": [],
   "source": [
    "items = Label.objects.filter(label_type__name=\"Anno\")\n"
   ]
  },
  {
   "cell_type": "code",
   "execution_count": null,
   "id": "29ef857e-1cbb-4789-baf8-a275792aea16",
   "metadata": {},
   "outputs": [],
   "source": [
    "anno_label = LabelType.objects.get(id=1243)\n",
    "anno_label"
   ]
  },
  {
   "cell_type": "code",
   "execution_count": null,
   "id": "2e1afcec-bee8-41f0-a337-e98bffd891d6",
   "metadata": {},
   "outputs": [],
   "source": [
    "anno_label.delete()"
   ]
  },
  {
   "cell_type": "code",
   "execution_count": null,
   "id": "dc01cf5f-3696-487a-8068-f04e6dc92af8",
   "metadata": {},
   "outputs": [],
   "source": []
  }
 ],
 "metadata": {
  "kernelspec": {
   "display_name": "Django Shell-Plus",
   "language": "python",
   "name": "django_extensions"
  },
  "language_info": {
   "codemirror_mode": {
    "name": "ipython",
    "version": 3
   },
   "file_extension": ".py",
   "mimetype": "text/x-python",
   "name": "python",
   "nbconvert_exporter": "python",
   "pygments_lexer": "ipython3",
   "version": "3.12.3"
  }
 },
 "nbformat": 4,
 "nbformat_minor": 5
}

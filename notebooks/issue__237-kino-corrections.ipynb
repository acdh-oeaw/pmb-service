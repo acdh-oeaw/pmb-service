{
 "cells": [
  {
   "cell_type": "code",
   "execution_count": null,
   "id": "350e5679-7ae5-4889-a1c3-7c091e57d0cc",
   "metadata": {},
   "outputs": [],
   "source": [
    "# run against production 2024-11-05\n",
    "from tqdm import tqdm\n",
    "from dumper.utils import gsheet_to_df\n",
    "from django.core.exceptions import ObjectDoesNotExist\n",
    "from django.db import IntegrityError\n",
    "from apis_core.utils import get_object_from_pk_or_uri\n",
    "from AcdhArcheAssets.uri_norm_rules import get_normalized_uri\n",
    "import pandas as pd"
   ]
  },
  {
   "cell_type": "code",
   "execution_count": null,
   "id": "4991d8c9-7686-454c-9b69-0ea07f1e3a50",
   "metadata": {},
   "outputs": [],
   "source": [
    "col, _ = Collection.objects.get_or_create(name=\"Schnitzler-Kino\")"
   ]
  },
  {
   "cell_type": "code",
   "execution_count": null,
   "id": "c5ed45d6-f1fb-4886-ab2f-6f7555cdd351",
   "metadata": {},
   "outputs": [],
   "source": [
    "df = gsheet_to_df(\"1-Kl0pFsiABqzNZ65PoGp2SWrGadcRega-DIs_NxLcHE\")"
   ]
  },
  {
   "cell_type": "code",
   "execution_count": null,
   "id": "828adcc8-bb37-4f5b-9432-a52d8558e7b5",
   "metadata": {},
   "outputs": [],
   "source": [
    "df.head()"
   ]
  },
  {
   "cell_type": "code",
   "execution_count": null,
   "id": "c841018b-89fe-4a40-babe-bf6f19571b04",
   "metadata": {},
   "outputs": [],
   "source": [
    "for i, row in tqdm(df.iterrows(), total=len(df)):\n",
    "    film_id = row[\"film-id\"]\n",
    "    try:\n",
    "        item = Work.objects.get(id=film_id)\n",
    "    except ObjectDoesNotExist:\n",
    "        print(film_id)\n",
    "    name = row[\"titel-korrektur\"]\n",
    "    if isinstance(name, str):\n",
    "        item.name = name\n",
    "    try:\n",
    "        start_date = str(int(row[\"date-korrektur\"]))\n",
    "        item.start_date_written = start_date\n",
    "        item.end_date_written = start_date\n",
    "    except ValueError:\n",
    "        pass\n",
    "    if isinstance(row[\"wikidata-neu\"], str):\n",
    "        url = get_normalized_uri(row[\"wikidata-neu\"])\n",
    "        try:\n",
    "            uri = Uri.objects.get(\n",
    "                uri=url\n",
    "            )\n",
    "        except ObjectDoesNotExist:\n",
    "            uri = Uri.objects.create(\n",
    "                uri=url,\n",
    "                domain=\"wikidata\",\n",
    "            )\n",
    "        uri.entity = item\n",
    "        uri.save()\n",
    "    if isinstance(row[\"imdb-neu\"], str):\n",
    "        url = get_normalized_uri(row[\"imdb-neu\"])\n",
    "        try:\n",
    "            uri = Uri.objects.get(\n",
    "                uri=url\n",
    "            )\n",
    "        except ObjectDoesNotExist:\n",
    "            uri = Uri.objects.create(\n",
    "                uri=url,\n",
    "                domain=\"imdb\",\n",
    "            )\n",
    "        uri.entity = item\n",
    "        uri.save()\n",
    "        \n",
    "    item.save()"
   ]
  },
  {
   "cell_type": "code",
   "execution_count": null,
   "id": "c3775074-7267-443b-9f87-a61c8344783a",
   "metadata": {},
   "outputs": [],
   "source": []
  }
 ],
 "metadata": {
  "kernelspec": {
   "display_name": "Django Shell-Plus",
   "language": "python",
   "name": "django_extensions"
  },
  "language_info": {
   "codemirror_mode": {
    "name": "ipython",
    "version": 3
   },
   "file_extension": ".py",
   "mimetype": "text/x-python",
   "name": "python",
   "nbconvert_exporter": "python",
   "pygments_lexer": "ipython3",
   "version": "3.12.3"
  }
 },
 "nbformat": 4,
 "nbformat_minor": 5
}

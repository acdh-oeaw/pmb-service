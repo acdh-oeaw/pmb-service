{
 "cells": [
  {
   "cell_type": "code",
   "execution_count": 1,
   "id": "7a5ef163",
   "metadata": {},
   "outputs": [],
   "source": [
    "from tqdm import tqdm"
   ]
  },
  {
   "cell_type": "code",
   "execution_count": 2,
   "id": "219eac44",
   "metadata": {},
   "outputs": [],
   "source": [
    "col = Collection.objects.filter(name__icontains=\"neue fackel\")"
   ]
  },
  {
   "cell_type": "code",
   "execution_count": 3,
   "id": "5ede149f",
   "metadata": {},
   "outputs": [],
   "source": [
    "fackel_persons = Person.objects.filter(collection__in=col)"
   ]
  },
  {
   "cell_type": "code",
   "execution_count": null,
   "id": "e9f97bf6",
   "metadata": {},
   "outputs": [],
   "source": [
    "for x in tqdm(fackel_persons, total=fackel_persons.count()):\n",
    "    birth = PersonPlace.objects.filter(related_person=x).filter(relation_type__name=\"geboren in\").first()\n",
    "    death = PersonPlace.objects.filter(related_person=x).filter(relation_type__name=\"gestorben in\").first()\n",
    "    if birth and death:\n",
    "        if death.start_date_written:\n",
    "            birth_rel_date = birth.start_date_written\n",
    "            death_rel_date = death.start_date_written\n",
    "            if birth_rel_date == death_rel_date:\n",
    "                death.start_date_written = x.end_date_written\n",
    "                death.save()\n",
    "                "
   ]
  },
  {
   "cell_type": "code",
   "execution_count": null,
   "id": "14f9254b",
   "metadata": {},
   "outputs": [],
   "source": [
    "x.start_date_written"
   ]
  },
  {
   "cell_type": "code",
   "execution_count": null,
   "id": "3782da04",
   "metadata": {},
   "outputs": [],
   "source": [
    "PersonPerson.objects.all().count()"
   ]
  },
  {
   "cell_type": "code",
   "execution_count": null,
   "id": "a812cae8",
   "metadata": {},
   "outputs": [],
   "source": [
    "dir(PersonPerson)"
   ]
  },
  {
   "cell_type": "code",
   "execution_count": null,
   "id": "3a5fb626",
   "metadata": {},
   "outputs": [],
   "source": []
  }
 ],
 "metadata": {
  "kernelspec": {
   "display_name": "Django Shell-Plus",
   "language": "python",
   "name": "django_extensions"
  },
  "language_info": {
   "codemirror_mode": {
    "name": "ipython",
    "version": 3
   },
   "file_extension": ".py",
   "mimetype": "text/x-python",
   "name": "python",
   "nbconvert_exporter": "python",
   "pygments_lexer": "ipython3",
   "version": "3.10.12"
  }
 },
 "nbformat": 4,
 "nbformat_minor": 5
}

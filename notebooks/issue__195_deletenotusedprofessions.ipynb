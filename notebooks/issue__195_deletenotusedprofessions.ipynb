{
 "cells": [
  {
   "cell_type": "code",
   "execution_count": null,
   "id": "1e1c119a",
   "metadata": {},
   "outputs": [],
   "source": [
    "# 2024-05-28 run against production\n",
    "import pandas as pd"
   ]
  },
  {
   "cell_type": "code",
   "execution_count": null,
   "id": "d95d08e9",
   "metadata": {},
   "outputs": [],
   "source": [
    "ProfessionType.objects.all().count()"
   ]
  },
  {
   "cell_type": "code",
   "execution_count": null,
   "id": "5543f8e0",
   "metadata": {},
   "outputs": [],
   "source": [
    "ProfessionType.objects.filter(person=None).count()"
   ]
  },
  {
   "cell_type": "code",
   "execution_count": null,
   "id": "5b071e98",
   "metadata": {},
   "outputs": [],
   "source": [
    "data = []\n",
    "for x in ProfessionType.objects.filter(person=None).distinct():\n",
    "    data.append([x.id, x.name])"
   ]
  },
  {
   "cell_type": "code",
   "execution_count": null,
   "id": "30beda86",
   "metadata": {},
   "outputs": [],
   "source": [
    "import pandas as pd"
   ]
  },
  {
   "cell_type": "code",
   "execution_count": null,
   "id": "4fcb8186",
   "metadata": {},
   "outputs": [],
   "source": [
    "df = pd.DataFrame(data, columns=[\"id\", \"name\"])"
   ]
  },
  {
   "cell_type": "code",
   "execution_count": null,
   "id": "d7acc58e",
   "metadata": {},
   "outputs": [],
   "source": [
    "df.to_csv(\"hansi.csv\", index=False)"
   ]
  },
  {
   "cell_type": "code",
   "execution_count": null,
   "id": "18d88961",
   "metadata": {},
   "outputs": [],
   "source": [
    "for x in ProfessionType.objects.filter(person=None).distinct():\n",
    "    x.delete()"
   ]
  },
  {
   "cell_type": "code",
   "execution_count": null,
   "id": "6bac8d6e",
   "metadata": {},
   "outputs": [],
   "source": [
    "ProfessionType.objects.all().count()"
   ]
  },
  {
   "cell_type": "code",
   "execution_count": null,
   "id": "17dc6357",
   "metadata": {},
   "outputs": [],
   "source": []
  }
 ],
 "metadata": {
  "kernelspec": {
   "display_name": "Django Shell-Plus",
   "language": "python",
   "name": "django_extensions"
  },
  "language_info": {
   "codemirror_mode": {
    "name": "ipython",
    "version": 3
   },
   "file_extension": ".py",
   "mimetype": "text/x-python",
   "name": "python",
   "nbconvert_exporter": "python",
   "pygments_lexer": "ipython3",
   "version": "3.10.12"
  }
 },
 "nbformat": 4,
 "nbformat_minor": 5
}

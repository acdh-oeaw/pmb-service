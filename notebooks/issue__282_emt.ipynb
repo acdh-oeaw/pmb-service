{
 "cells": [
  {
   "cell_type": "code",
   "execution_count": null,
   "id": "a7cbcfd0-b9f4-4897-9cf5-a8cec08683da",
   "metadata": {},
   "outputs": [],
   "source": [
    "# run against production 2024-12-19\n",
    "from acdh_tei_pyutils.tei import TeiReader\n",
    "from acdh_tei_pyutils.utils import get_xmlid\n",
    "from acdh_xml_pyutils.xml import NSMAP\n",
    "from normdata.utils import import_from_normdata\n",
    "from tqdm import tqdm"
   ]
  },
  {
   "cell_type": "code",
   "execution_count": null,
   "id": "5babd6f6-4da8-4ad5-9ea3-955d77c768bd",
   "metadata": {},
   "outputs": [],
   "source": [
    "doc = TeiReader(\"https://emt.acdh-dev.oeaw.ac.at/listperson.xml\")\n",
    "domain = \"kaiserin-eleonora\"\n",
    "col, _ = Collection.objects.get_or_create(name=domain)\n",
    "col"
   ]
  },
  {
   "cell_type": "code",
   "execution_count": null,
   "id": "6c769236-3a4c-4d50-bf26-13735f073fdd",
   "metadata": {},
   "outputs": [],
   "source": [
    "broken_gnd = []\n",
    "for x in tqdm(doc.any_xpath(\".//tei:person[@xml:id and ./tei:idno[@type='GND']]\")):\n",
    "    gnd_uri = x.xpath(\"./tei:idno[@type='GND']/text()\", namespaces=NSMAP)[0]\n",
    "    xmlid = get_xmlid(x)\n",
    "    uri = \"https://kaiserin-eleonora.oeaw.ac.at/{}.html\".format(xmlid)\n",
    "    entity = import_from_normdata(gnd_uri, \"person\")\n",
    "    if entity:\n",
    "        pmb_uri, _ = Uri.objects.get_or_create(uri=uri, domain=domain)\n",
    "        pmb_uri.entity = entity\n",
    "        pmb_uri.save()\n",
    "        entity.collection.add(col)\n",
    "    else:\n",
    "        broken_gnd.append(gnd_uri)"
   ]
  },
  {
   "cell_type": "code",
   "execution_count": null,
   "id": "4fb4dab6-7057-44d7-b939-3ff96473c442",
   "metadata": {},
   "outputs": [],
   "source": [
    "print(broken_gnd)"
   ]
  },
  {
   "cell_type": "code",
   "execution_count": null,
   "id": "8dfd3fe3-21d3-4b8c-aee1-0e375cb5c607",
   "metadata": {},
   "outputs": [],
   "source": []
  }
 ],
 "metadata": {
  "kernelspec": {
   "display_name": "Django Shell-Plus",
   "language": "python",
   "name": "django_extensions"
  },
  "language_info": {
   "codemirror_mode": {
    "name": "ipython",
    "version": 3
   },
   "file_extension": ".py",
   "mimetype": "text/x-python",
   "name": "python",
   "nbconvert_exporter": "python",
   "pygments_lexer": "ipython3",
   "version": "3.12.3"
  }
 },
 "nbformat": 4,
 "nbformat_minor": 5
}

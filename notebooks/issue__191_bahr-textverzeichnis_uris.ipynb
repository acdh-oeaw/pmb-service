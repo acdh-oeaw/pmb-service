{
 "cells": [
  {
   "cell_type": "code",
   "execution_count": null,
   "id": "bb4efb60",
   "metadata": {},
   "outputs": [],
   "source": [
    "# 2024-05-14 run against production\n",
    "from tqdm import tqdm\n",
    "from dumper.utils import gsheet_to_df\n",
    "from apis_core.utils import get_object_from_pk_or_uri"
   ]
  },
  {
   "cell_type": "code",
   "execution_count": null,
   "id": "fcb6005e",
   "metadata": {},
   "outputs": [],
   "source": [
    "uris = Uri.objects.filter(uri__icontains=\"bahr-textverzeichnis.acdh.oeaw.ac.at\")\n",
    "print(uris.count())\n",
    "for x in tqdm(uris):\n",
    "    x.delete()\n",
    "Uri.objects.filter(domain=\"bahr-textverzeichnis\").count()"
   ]
  },
  {
   "cell_type": "code",
   "execution_count": null,
   "id": "a48fcd76",
   "metadata": {},
   "outputs": [],
   "source": [
    "df = gsheet_to_df(\"1VXXj7tc4sy52KpV_II4gIYmVUQ-lSLi-S8XqBsBMlCE\")"
   ]
  },
  {
   "cell_type": "code",
   "execution_count": null,
   "id": "89dfbb5c",
   "metadata": {},
   "outputs": [],
   "source": [
    "df"
   ]
  },
  {
   "cell_type": "code",
   "execution_count": null,
   "id": "3cf5f1d9",
   "metadata": {},
   "outputs": [],
   "source": [
    "for i, row in tqdm(df.iterrows(), total=len(df)):\n",
    "    entity = get_object_from_pk_or_uri(row[\"PMB\"])\n",
    "    new_uri, _ = Uri.objects.get_or_create(\n",
    "        uri=row[\"URI\"],\n",
    "        entity=entity,\n",
    "        domain=\"bahr-textverzeichnis\"\n",
    "    )"
   ]
  },
  {
   "cell_type": "code",
   "execution_count": null,
   "id": "03b91acd",
   "metadata": {},
   "outputs": [],
   "source": [
    "uris = Uri.objects.filter(uri__icontains=\"bahr-textverzeichnis.acdh.oeaw.ac.at/TSN-\")\n",
    "print(uris.count())"
   ]
  },
  {
   "cell_type": "code",
   "execution_count": null,
   "id": "9a0e2d17",
   "metadata": {},
   "outputs": [],
   "source": [
    "for x in tqdm(uris, total=uris.count()):\n",
    "    x.domain = \"bahr-TSN\"\n",
    "    x.save()"
   ]
  },
  {
   "cell_type": "code",
   "execution_count": null,
   "id": "725dba43",
   "metadata": {},
   "outputs": [],
   "source": []
  }
 ],
 "metadata": {
  "kernelspec": {
   "display_name": "Django Shell-Plus",
   "language": "python",
   "name": "django_extensions"
  },
  "language_info": {
   "codemirror_mode": {
    "name": "ipython",
    "version": 3
   },
   "file_extension": ".py",
   "mimetype": "text/x-python",
   "name": "python",
   "nbconvert_exporter": "python",
   "pygments_lexer": "ipython3",
   "version": "3.10.12"
  }
 },
 "nbformat": 4,
 "nbformat_minor": 5
}

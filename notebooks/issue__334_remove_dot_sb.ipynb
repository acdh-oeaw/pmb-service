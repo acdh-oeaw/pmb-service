{
 "cells": [
  {
   "cell_type": "code",
   "execution_count": null,
   "id": "4c8ecc71-052a-40db-950c-6eb2e04f859f",
   "metadata": {},
   "outputs": [],
   "source": [
    "# 2025-04-29 run against production\n",
    "from tqdm import tqdm"
   ]
  },
  {
   "cell_type": "code",
   "execution_count": null,
   "id": "b4f4449e-5d75-47a1-99c0-3f614fd15360",
   "metadata": {},
   "outputs": [],
   "source": [
    "items = Work.objects.filter(collection=42)"
   ]
  },
  {
   "cell_type": "code",
   "execution_count": null,
   "id": "e1aeee53-2f3e-4a89-9780-3f20ab4ef49a",
   "metadata": {},
   "outputs": [],
   "source": [
    "for x in tqdm(items, total=items.count()):\n",
    "    old_name = x.name\n",
    "    if old_name[-1] == \".\":\n",
    "        new_name = old_name[:-1]\n",
    "        x.name = new_name\n",
    "        x.save()"
   ]
  }
 ],
 "metadata": {
  "kernelspec": {
   "display_name": "Django Shell-Plus",
   "language": "python",
   "name": "django_extensions"
  },
  "language_info": {
   "codemirror_mode": {
    "name": "ipython",
    "version": 3
   },
   "file_extension": ".py",
   "mimetype": "text/x-python",
   "name": "python",
   "nbconvert_exporter": "python",
   "pygments_lexer": "ipython3",
   "version": "3.12.3"
  }
 },
 "nbformat": 4,
 "nbformat_minor": 5
}

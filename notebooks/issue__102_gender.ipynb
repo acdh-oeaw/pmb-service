{
 "cells": [
  {
   "cell_type": "code",
   "execution_count": null,
   "id": "e6da81e5",
   "metadata": {},
   "outputs": [],
   "source": [
    "# script gelaufen 2024-01-15\n",
    "from tqdm import tqdm\n",
    "from dumper.utils import gsheet_to_df"
   ]
  },
  {
   "cell_type": "code",
   "execution_count": null,
   "id": "5fc58d1b",
   "metadata": {},
   "outputs": [],
   "source": [
    "df = gsheet_to_df(\"1DkJoIK-7pZ56K_6rEt0PoFmr-hMdoPsc673KH2uDMFA\")"
   ]
  },
  {
   "cell_type": "code",
   "execution_count": null,
   "id": "5dff4748",
   "metadata": {},
   "outputs": [],
   "source": [
    "for i, row in tqdm(df.iterrows(), total=len(df)):\n",
    "    if not isinstance(row[\"gender\"], str):\n",
    "        continue\n",
    "    try:\n",
    "        item_id = int(row[\"id\"].split(\"__\")[-1])\n",
    "    except:\n",
    "        print(row[\"id\"])\n",
    "        continue\n",
    "    gender = row[\"gender\"]\n",
    "    try:\n",
    "        person = Person.objects.get(id=item_id)\n",
    "    except:\n",
    "        print(item_id)\n",
    "        continue\n",
    "    person.gender = gender\n",
    "    person.save()"
   ]
  },
  {
   "cell_type": "code",
   "execution_count": null,
   "id": "0b8a7a4d",
   "metadata": {},
   "outputs": [],
   "source": []
  }
 ],
 "metadata": {
  "kernelspec": {
   "display_name": "Django Shell-Plus",
   "language": "python",
   "name": "django_extensions"
  },
  "language_info": {
   "codemirror_mode": {
    "name": "ipython",
    "version": 3
   },
   "file_extension": ".py",
   "mimetype": "text/x-python",
   "name": "python",
   "nbconvert_exporter": "python",
   "pygments_lexer": "ipython3",
   "version": "3.10.12"
  }
 },
 "nbformat": 4,
 "nbformat_minor": 5
}

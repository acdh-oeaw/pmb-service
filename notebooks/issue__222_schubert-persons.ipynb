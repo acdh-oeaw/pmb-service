{
 "cells": [
  {
   "cell_type": "code",
   "execution_count": null,
   "id": "996db3a8-afd9-478d-9786-dd0275216e9e",
   "metadata": {},
   "outputs": [],
   "source": [
    "# run against production 2024-10-10\n",
    "from acdh_tei_pyutils.tei import TeiReader\n",
    "from normdata.utils import import_from_normdata\n",
    "from tqdm import tqdm"
   ]
  },
  {
   "cell_type": "code",
   "execution_count": null,
   "id": "36b53039-f80b-4b29-b6f7-029e6f0da76d",
   "metadata": {},
   "outputs": [],
   "source": [
    "doc = TeiReader(\"https://schubert-digital.at/export/personen.xml\")"
   ]
  },
  {
   "cell_type": "code",
   "execution_count": null,
   "id": "2598232e-8193-4fa5-8159-918d4ca6e76c",
   "metadata": {},
   "outputs": [],
   "source": [
    "nsmap = {\"tei\": \"http://www.music-encoding.org/ns/mei\"}\n",
    "col, _ = Collection.objects.get_or_create(name=\"Schubert Digital\")\n",
    "domain = \"schubert-digital\""
   ]
  },
  {
   "cell_type": "code",
   "execution_count": null,
   "id": "080d64de-e40b-4aa3-94a0-adcc59c2c508",
   "metadata": {},
   "outputs": [],
   "source": [
    "broken_gnd = []\n",
    "pmb_uris = []\n",
    "for x in tqdm(doc.tree.xpath(\".//tei:persName[@xml:id]\", namespaces=nsmap)):\n",
    "    try:\n",
    "        gnd = x.xpath(\".//tei:identifier[@auth='GND']\", namespaces=nsmap)[0].text\n",
    "    except:\n",
    "        gnd = False\n",
    "        continue\n",
    "    if gnd:\n",
    "        xml_id = x.xpath(\".//tei:identifier[@label='Schubert-Personenregister-ID']/text()\", namespaces=nsmap)[0]\n",
    "        domain_uri = f\"https://schubert-digital.at/{xml_id}.html\"\n",
    "        gnd_uri = f\"https://d-nb.info/gnd/{gnd}\"\n",
    "        entity = import_from_normdata(gnd_uri, \"person\")\n",
    "        if entity:\n",
    "            pmb_uri, _ = Uri.objects.get_or_create(uri=domain_uri, domain=domain)\n",
    "            pmb_uri.entity = entity\n",
    "            pmb_uri.save()\n",
    "            entity.collection.add(col)\n",
    "            pmb_uris.append([xml_id, entity.id])\n",
    "        else:\n",
    "            broken_gnd.append(gnd_uri)"
   ]
  },
  {
   "cell_type": "code",
   "execution_count": null,
   "id": "69207701-41c4-4151-b36a-037613baa634",
   "metadata": {},
   "outputs": [],
   "source": [
    "import pandas as pd"
   ]
  },
  {
   "cell_type": "code",
   "execution_count": null,
   "id": "1924a736-e302-4a29-83f2-9fa1704bbbe0",
   "metadata": {},
   "outputs": [],
   "source": [
    "df = pd.DataFrame(pmb_uris)"
   ]
  },
  {
   "cell_type": "code",
   "execution_count": null,
   "id": "7845bd29-14c4-45f3-a689-bae05829ed45",
   "metadata": {},
   "outputs": [],
   "source": [
    "df.to_csv('schubert_pmb.csv', index=False)"
   ]
  },
  {
   "cell_type": "code",
   "execution_count": null,
   "id": "ba9f5899-a9c2-474a-9d12-5977d5c698c6",
   "metadata": {},
   "outputs": [],
   "source": []
  }
 ],
 "metadata": {
  "kernelspec": {
   "display_name": "Django Shell-Plus",
   "language": "python",
   "name": "django_extensions"
  },
  "language_info": {
   "codemirror_mode": {
    "name": "ipython",
    "version": 3
   },
   "file_extension": ".py",
   "mimetype": "text/x-python",
   "name": "python",
   "nbconvert_exporter": "python",
   "pygments_lexer": "ipython3",
   "version": "3.12.3"
  }
 },
 "nbformat": 4,
 "nbformat_minor": 5
}

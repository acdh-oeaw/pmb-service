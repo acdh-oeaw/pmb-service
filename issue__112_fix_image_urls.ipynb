{
 "cells": [
  {
   "cell_type": "code",
   "execution_count": 23,
   "id": "eda7419e",
   "metadata": {},
   "outputs": [],
   "source": [
    "from urllib.parse import quote\n",
    "from acdh_wikidata_pyutils import URL_STUB\n",
    "from tqdm.notebook import tqdm"
   ]
  },
  {
   "cell_type": "code",
   "execution_count": 24,
   "id": "f03b29bb",
   "metadata": {},
   "outputs": [],
   "source": [
    "items = TempEntityClass.objects.filter(img_url__icontains=\"width\").filter(img_url__icontains=\"commons.wikimedia.org/w/index\")"
   ]
  },
  {
   "cell_type": "code",
   "execution_count": 25,
   "id": "8ec94f95",
   "metadata": {},
   "outputs": [
    {
     "data": {
      "application/vnd.jupyter.widget-view+json": {
       "model_id": "e730f9bf96b4439e86ded04fdaa525f4",
       "version_major": 2,
       "version_minor": 0
      },
      "text/plain": [
       "0it [00:00, ?it/s]"
      ]
     },
     "metadata": {},
     "output_type": "display_data"
    }
   ],
   "source": [
    "for x in tqdm(items, total=len(items)):\n",
    "    img_name = x.img_url.split('/')[-1].split('&')[0]\n",
    "    new_url = URL_STUB.format(quote(img_name))\n",
    "    x.img_url = new_url\n",
    "    x.save()"
   ]
  },
  {
   "cell_type": "code",
   "execution_count": 26,
   "id": "a8048e89",
   "metadata": {},
   "outputs": [
    {
     "data": {
      "text/plain": [
       "'https://commons.wikimedia.org/w/index.php?title=Special:Redirect/file/{}'"
      ]
     },
     "execution_count": 26,
     "metadata": {},
     "output_type": "execute_result"
    }
   ],
   "source": [
    "URL_STUB"
   ]
  },
  {
   "cell_type": "code",
   "execution_count": 27,
   "id": "054659cb",
   "metadata": {},
   "outputs": [],
   "source": [
    "hansi = None"
   ]
  },
  {
   "cell_type": "code",
   "execution_count": 28,
   "id": "4b1ad510",
   "metadata": {},
   "outputs": [
    {
     "ename": "TypeError",
     "evalue": "argument of type 'NoneType' is not iterable",
     "output_type": "error",
     "traceback": [
      "\u001b[0;31m---------------------------------------------------------------------------\u001b[0m",
      "\u001b[0;31mTypeError\u001b[0m                                 Traceback (most recent call last)",
      "Cell \u001b[0;32mIn[28], line 1\u001b[0m\n\u001b[0;32m----> 1\u001b[0m \u001b[38;5;28;01mif\u001b[39;00m \u001b[43mURL_STUB\u001b[49m\u001b[43m \u001b[49m\u001b[38;5;129;43;01min\u001b[39;49;00m\u001b[43m \u001b[49m\u001b[43mhansi\u001b[49m:\n\u001b[1;32m      2\u001b[0m     \u001b[38;5;28mprint\u001b[39m(\u001b[38;5;124m\"\u001b[39m\u001b[38;5;124masd\u001b[39m\u001b[38;5;124m\"\u001b[39m)\n",
      "\u001b[0;31mTypeError\u001b[0m: argument of type 'NoneType' is not iterable"
     ]
    }
   ],
   "source": [
    "if URL_STUB in hansi:\n",
    "    print(\"asd\")"
   ]
  },
  {
   "cell_type": "code",
   "execution_count": null,
   "id": "454dd98d",
   "metadata": {},
   "outputs": [],
   "source": []
  }
 ],
 "metadata": {
  "kernelspec": {
   "display_name": "Django Shell-Plus",
   "language": "python",
   "name": "django_extensions"
  },
  "language_info": {
   "codemirror_mode": {
    "name": "ipython",
    "version": 3
   },
   "file_extension": ".py",
   "mimetype": "text/x-python",
   "name": "python",
   "nbconvert_exporter": "python",
   "pygments_lexer": "ipython3",
   "version": "3.10.12"
  }
 },
 "nbformat": 4,
 "nbformat_minor": 5
}

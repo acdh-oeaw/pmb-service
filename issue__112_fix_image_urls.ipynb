{
 "cells": [
  {
   "cell_type": "code",
   "execution_count": null,
   "id": "eda7419e",
   "metadata": {},
   "outputs": [],
   "source": [
    "from urllib.parse import quote\n",
    "from acdh_wikidata_pyutils import URL_STUB\n",
    "from tqdm.notebook import tqdm"
   ]
  },
  {
   "cell_type": "code",
   "execution_count": null,
   "id": "f03b29bb",
   "metadata": {},
   "outputs": [],
   "source": [
    "items = TempEntityClass.objects.filter(img_url__icontains=\"width\").filter(img_url__icontains=\"commons.wikimedia.org/w/index\")"
   ]
  },
  {
   "cell_type": "code",
   "execution_count": null,
   "id": "e8e31fb5",
   "metadata": {},
   "outputs": [],
   "source": [
    "items.count()"
   ]
  },
  {
   "cell_type": "code",
   "execution_count": null,
   "id": "8ec94f95",
   "metadata": {},
   "outputs": [],
   "source": [
    "for x in tqdm(items, total=len(items)):\n",
    "    img_name = x.img_url.split('/')[-1].split('&')[0]\n",
    "    new_url = URL_STUB.format(quote(img_name))\n",
    "    if len(new_url) > 300:\n",
    "        new_url = None\n",
    "    x.img_url = new_url\n",
    "    x.save()"
   ]
  },
  {
   "cell_type": "code",
   "execution_count": null,
   "id": "454dd98d",
   "metadata": {},
   "outputs": [],
   "source": []
  }
 ],
 "metadata": {
  "kernelspec": {
   "display_name": "Django Shell-Plus",
   "language": "python",
   "name": "django_extensions"
  },
  "language_info": {
   "codemirror_mode": {
    "name": "ipython",
    "version": 3
   },
   "file_extension": ".py",
   "mimetype": "text/x-python",
   "name": "python",
   "nbconvert_exporter": "python",
   "pygments_lexer": "ipython3",
   "version": "3.10.12"
  }
 },
 "nbformat": 4,
 "nbformat_minor": 5
}

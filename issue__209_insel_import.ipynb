{
 "cells": [
  {
   "cell_type": "code",
   "execution_count": null,
   "id": "e1d2654a-09a9-4cef-b833-88e386bb6b17",
   "metadata": {},
   "outputs": [],
   "source": [
    "import os\n",
    "from django.core.exceptions import ObjectDoesNotExist\n",
    "from acdh_tei_pyutils.tei import TeiReader\n",
    "from acdh_tei_pyutils.utils import nsmap, normalize_string"
   ]
  },
  {
   "cell_type": "code",
   "execution_count": null,
   "id": "19f52165-9dea-45c8-b48b-1e52e844648a",
   "metadata": {},
   "outputs": [],
   "source": [
    "doc = TeiReader(\"https://raw.githubusercontent.com/csae8092/insel-data-for-pmb/main/schoeffling_anhang_pmb.xml\")\n",
    "tmp_file = \"hansi.xml\"\n",
    "domain = \"insel\"\n",
    "col, _ = Collection.objects.get_or_create(name=\"Die Insel\")\n",
    "wrote = PersonWorkRelation.objects.get(name=\"hat geschaffen\")\n",
    "translated = PersonWorkRelation.objects.get(name=\"hat übersetzt\")\n",
    "label_type = LabelType.objects.get(name=\"Werk_Bibliografische-Angabe\")"
   ]
  },
  {
   "cell_type": "code",
   "execution_count": null,
   "id": "ca2c4418-9461-43ce-98a6-3ae3e34bbbcb",
   "metadata": {},
   "outputs": [],
   "source": [
    "for i, x in enumerate(doc.any_xpath(\".//tei:biblStruct[.//tei:author]\"), start=1):\n",
    "    insel_id = f\"insel-werk_{i:04}\"\n",
    "    x.attrib[\"key\"] = insel_id\n",
    "doc.tree_to_file(tmp_file)\n",
    "doc = TeiReader(tmp_file)"
   ]
  },
  {
   "cell_type": "code",
   "execution_count": null,
   "id": "1246f0c8-132a-4ee1-8b02-8782773eb981",
   "metadata": {},
   "outputs": [],
   "source": [
    "for i, x in enumerate(doc.any_xpath(\".//tei:biblStruct[.//tei:author]\")):\n",
    "    werk_id = x.attrib[\"key\"]\n",
    "    werk_uri = f\"https://die-insel.foo.bar/{werk_id}\"\n",
    "    title = normalize_string(\" \".join(x.xpath(\".//tei:title[1]//text()\", namespaces=nsmap)))\n",
    "    authors = set()\n",
    "    for a in x.xpath(\".//tei:author/@ref\", namespaces=nsmap):\n",
    "        authors.add(a[4:])\n",
    "    translators = set()\n",
    "    for a in x.xpath(\".//tei:title//tei:persName[@role='translator']/@ref\", namespaces=nsmap):\n",
    "        translators.add(a[4:])\n",
    "    jg = x.xpath(\".//tei:biblScope[@unit='jg']/text()\", namespaces=nsmap)[0]\n",
    "    volume = x.xpath(\".//tei:biblScope[@unit='volume']/text()\", namespaces=nsmap)[0]\n",
    "    issue = x.xpath(\".//tei:biblScope[@unit='issue']/text()\", namespaces=nsmap)[0]\n",
    "    page = x.xpath(\".//tei:biblScope[@unit='page']/text()\", namespaces=nsmap)[0]\n",
    "    bibl_full = f\"Die Insel, Jg. {jg}, Bd. {volume}, Nr. {issue}, S. {page}\"\n",
    "    try:\n",
    "        uri = Uri.objects.get(uri=werk_uri)\n",
    "        entity = Work.objects.get(id=uri.entity.id)\n",
    "    except (ObjectDoesNotExist, AttributeError):\n",
    "        entity = False\n",
    "    if not entity:\n",
    "        uri, _ = Uri.objects.get_or_create(uri=werk_uri, domain=domain)\n",
    "        entity = Work.objects.create(name=title[:250])\n",
    "    entity.collection.add(col)\n",
    "    uri.entity = entity\n",
    "    # Werk_Bibliografische-Angabe\n",
    "    label, _ = Label.objects.get_or_create(label=bibl_full, label_type=label_type, temp_entity=entity)\n",
    "    for item in authors:\n",
    "        person = Person.objects.get(id=item)\n",
    "        author_rel = PersonWork.objects.get_or_create(related_person=person, related_work=entity, relation_type=wrote)\n",
    "    for item in translators:\n",
    "        person = Person.objects.get(id=item)\n",
    "        author_rel = PersonWork.objects.get_or_create(related_person=person, related_work=entity, relation_type=translated)\n",
    "    uri.save()"
   ]
  },
  {
   "cell_type": "code",
   "execution_count": null,
   "id": "af7042d3-668b-4953-8210-adf5373697b1",
   "metadata": {},
   "outputs": [],
   "source": [
    "uri = Uri.objects.get(uri=\"https://pmb.acdh.oeaw.ac.at/entity/169788/\")"
   ]
  },
  {
   "cell_type": "code",
   "execution_count": null,
   "id": "45024014-bae9-455f-b3f4-ab66b95d7efb",
   "metadata": {},
   "outputs": [],
   "source": [
    "Person.objects.get(id=uri.entity.id)"
   ]
  },
  {
   "cell_type": "code",
   "execution_count": null,
   "id": "48aab251-4a6f-47dd-a2de-b90b90210bd5",
   "metadata": {},
   "outputs": [],
   "source": []
  }
 ],
 "metadata": {
  "kernelspec": {
   "display_name": "Django Shell-Plus",
   "language": "python",
   "name": "django_extensions"
  },
  "language_info": {
   "codemirror_mode": {
    "name": "ipython",
    "version": 3
   },
   "file_extension": ".py",
   "mimetype": "text/x-python",
   "name": "python",
   "nbconvert_exporter": "python",
   "pygments_lexer": "ipython3",
   "version": "3.12.3"
  }
 },
 "nbformat": 4,
 "nbformat_minor": 5
}

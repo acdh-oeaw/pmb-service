{
 "cells": [
  {
   "cell_type": "code",
   "execution_count": null,
   "id": "930e96d1-07c8-4f3f-be44-59cc3f88233f",
   "metadata": {},
   "outputs": [],
   "source": [
    "import pandas as pd\n",
    "\n",
    "from csae_pyutils import gsheet_to_df\n",
    "from django.core.exceptions import ObjectDoesNotExist\n",
    "from tqdm import tqdm\n",
    "from normdata.utils import import_from_normdata"
   ]
  },
  {
   "cell_type": "code",
   "execution_count": null,
   "id": "37f35896-fe52-470c-beb6-538300aeebf2",
   "metadata": {},
   "outputs": [],
   "source": [
    "df = gsheet_to_df(\"1HwiAHSiBDb2eNfm56Ie9GTNurBIStoqnUxFwszChDmU\")\n",
    "works_df = gsheet_to_df(\"1aygcH8NTUuDVGSJVIVj1fyI4ATPv0x1Bt8vSLb76z3k\")\n",
    "len(df), len(works_df)"
   ]
  },
  {
   "cell_type": "code",
   "execution_count": null,
   "id": "664ab867-3039-4f59-a018-5d889b9d57c7",
   "metadata": {},
   "outputs": [],
   "source": [
    "unique_authors = works_df['authorId'].unique().tolist()\n",
    "len(unique_authors)\n",
    "type(unique_authors[10])"
   ]
  },
  {
   "cell_type": "code",
   "execution_count": null,
   "id": "6a49681c-abd7-46e6-9a40-07ff90dfea52",
   "metadata": {},
   "outputs": [],
   "source": [
    "col, _ = Collection.objects.get_or_create(name=\"Die Schaubühne\")\n",
    "domain = \"schaubuehne\"\n",
    "col_type, _ = CollectionType.objects.get_or_create(name=\"Projekt\")\n",
    "col.description = \"\"\"\n",
    "„Die Schaubühne. Herausgeber: Siegfried Jacobsohn, Berlin 1905–1918“. Digitale Edition. Hrsg. v. Imelda Rohrbacher. Wien: Österreichische Akademie der Wissenschaften (ÖAW) 2024, <a href=\"https://schaubuehne.oeaw.ac.at\">https://schaubuehne.oeaw.ac.at</a>\n",
    "\"\"\"\n",
    "col.collection_type = col_type\n",
    "col.save()"
   ]
  },
  {
   "cell_type": "code",
   "execution_count": null,
   "id": "7d10e3e8-c8be-46bf-b9ed-f64212668c9e",
   "metadata": {},
   "outputs": [],
   "source": [
    "broken_wikidata = []\n",
    "for i, row in tqdm(df.iterrows(), total=len(df)):\n",
    "    if isinstance(row[\"wikidataId\"], str):\n",
    "        item_id = row[\"id\"]\n",
    "        if float(item_id) in unique_authors:\n",
    "            norm_uri = f'http://www.wikidata.org/entity/{row[\"wikidataId\"]}'\n",
    "            domain_uri = f\"https://schaubuehne.oeaw.ac.at/register.html?author={item_id}\"\n",
    "            entity = import_from_normdata(norm_uri, \"person\")\n",
    "            if entity:\n",
    "                pmb_uri, _ = Uri.objects.get_or_create(uri=domain_uri, domain=domain)\n",
    "                pmb_uri.entity = entity\n",
    "                pmb_uri.save()\n",
    "                entity.collection.add(col)\n",
    "            else:\n",
    "                broken_wikidata.append(norm_uri)"
   ]
  },
  {
   "cell_type": "code",
   "execution_count": null,
   "id": "fba0139f-6e41-48c4-a1bb-6ca723edc58c",
   "metadata": {},
   "outputs": [],
   "source": []
  }
 ],
 "metadata": {
  "kernelspec": {
   "display_name": "Django Shell-Plus",
   "language": "python",
   "name": "django_extensions"
  },
  "language_info": {
   "codemirror_mode": {
    "name": "ipython",
    "version": 3
   },
   "file_extension": ".py",
   "mimetype": "text/x-python",
   "name": "python",
   "nbconvert_exporter": "python",
   "pygments_lexer": "ipython3",
   "version": "3.12.3"
  }
 },
 "nbformat": 4,
 "nbformat_minor": 5
}

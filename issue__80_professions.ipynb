{
 "cells": [
  {
   "cell_type": "markdown",
   "id": "7d1e0d0c",
   "metadata": {},
   "source": [
    "# run 2024-01-19 on production server"
   ]
  },
  {
   "cell_type": "code",
   "execution_count": 1,
   "id": "2fe08400",
   "metadata": {},
   "outputs": [],
   "source": [
    "from tqdm import tqdm\n",
    "from dumper.utils import gsheet_to_df"
   ]
  },
  {
   "cell_type": "code",
   "execution_count": 2,
   "id": "2b4ee9e3",
   "metadata": {},
   "outputs": [
    {
     "name": "stdout",
     "output_type": "stream",
     "text": [
      "200\n"
     ]
    }
   ],
   "source": [
    "df = gsheet_to_df(\"1MnS_eJbPNLzXp4YkS5I9Xkhv2GVPbYtrFiQjJla5rJE\")"
   ]
  },
  {
   "cell_type": "code",
   "execution_count": 3,
   "id": "f47bcd68",
   "metadata": {},
   "outputs": [
    {
     "name": "stderr",
     "output_type": "stream",
     "text": [
      "1518it [01:10, 27.09it/s]"
     ]
    },
    {
     "name": "stdout",
     "output_type": "stream",
     "text": [
      "1513\n"
     ]
    },
    {
     "name": "stderr",
     "output_type": "stream",
     "text": [
      "1567it [01:12, 21.47it/s]\n"
     ]
    }
   ],
   "source": [
    "for i, row in tqdm(df.iterrows()):\n",
    "    try:\n",
    "        pl = ProfessionType.objects.get(id=row[\"id\"])\n",
    "    except:\n",
    "        print(i)\n",
    "        continue\n",
    "    name = row[\"name\"]\n",
    "    pl.name = name\n",
    "    pl.save()"
   ]
  },
  {
   "cell_type": "code",
   "execution_count": 4,
   "id": "f820cd7f",
   "metadata": {},
   "outputs": [
    {
     "name": "stderr",
     "output_type": "stream",
     "text": [
      "1567it [01:34, 16.66it/s] \n"
     ]
    }
   ],
   "source": [
    "delete_us = []\n",
    "for i, row in tqdm(df.iterrows()):\n",
    "    if isinstance(row[\"duplicates\"], str):\n",
    "        pl = ProfessionType.objects.get(id=row[\"id\"])\n",
    "        ids = [int(x) for x in row[\"duplicates\"].split('|')]\n",
    "        persons = Person.objects.filter(profession__in=ids)\n",
    "        for y in persons:\n",
    "            y.profession.add(pl)\n",
    "        for x in ids:\n",
    "            try:\n",
    "                to_del = ProfessionType.objects.get(id=x)\n",
    "            except:\n",
    "                print(f\"cant find {x}\")\n",
    "                continue\n",
    "            delete_us.append(to_del)           \n",
    "            "
   ]
  },
  {
   "cell_type": "code",
   "execution_count": 5,
   "id": "fe06fca6",
   "metadata": {},
   "outputs": [],
   "source": [
    "for x in delete_us:\n",
    "    try:\n",
    "        x.delete()\n",
    "    except:\n",
    "        print(x)"
   ]
  },
  {
   "cell_type": "code",
   "execution_count": null,
   "id": "85c6f39d",
   "metadata": {},
   "outputs": [],
   "source": []
  }
 ],
 "metadata": {
  "kernelspec": {
   "display_name": "Django Shell-Plus",
   "language": "python",
   "name": "django_extensions"
  },
  "language_info": {
   "codemirror_mode": {
    "name": "ipython",
    "version": 3
   },
   "file_extension": ".py",
   "mimetype": "text/x-python",
   "name": "python",
   "nbconvert_exporter": "python",
   "pygments_lexer": "ipython3",
   "version": "3.10.12"
  }
 },
 "nbformat": 4,
 "nbformat_minor": 5
}

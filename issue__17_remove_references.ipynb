{
 "cells": [
  {
   "cell_type": "code",
   "execution_count": null,
   "id": "fa8492cd",
   "metadata": {},
   "outputs": [],
   "source": [
    "import pandas as pd\n",
    "from tqdm import tqdm\n",
    "from django.core.exceptions import ObjectDoesNotExist"
   ]
  },
  {
   "cell_type": "code",
   "execution_count": null,
   "id": "e92f4f2d",
   "metadata": {},
   "outputs": [],
   "source": [
    "for x in tqdm(TempEntityClass.objects.filter(references__icontains=\"Hermann Bahr: Tagebücher\")):\n",
    "    keep = x.references.split(\"Hermann Bahr: Tagebücher\")[0]\n",
    "    if keep == \"\\n\":\n",
    "        x.references = \"\"\n",
    "    elif \"None\" in keep:\n",
    "        x.references = \"\"\n",
    "    else:\n",
    "        x.references = keep\n",
    "    x.save()"
   ]
  },
  {
   "cell_type": "code",
   "execution_count": null,
   "id": "f9306d9d",
   "metadata": {},
   "outputs": [],
   "source": [
    "for x in TempEntityClass.objects.filter(references__icontains=\"Hermann Bahr: Tagebücher\"):\n",
    "    print(x.references)"
   ]
  },
  {
   "cell_type": "code",
   "execution_count": null,
   "id": "b7ae09b4",
   "metadata": {},
   "outputs": [],
   "source": []
  }
 ],
 "metadata": {
  "kernelspec": {
   "display_name": "Django Shell-Plus",
   "language": "python",
   "name": "django_extensions"
  },
  "language_info": {
   "codemirror_mode": {
    "name": "ipython",
    "version": 3
   },
   "file_extension": ".py",
   "mimetype": "text/x-python",
   "name": "python",
   "nbconvert_exporter": "python",
   "pygments_lexer": "ipython3",
   "version": "3.10.12"
  }
 },
 "nbformat": 4,
 "nbformat_minor": 5
}

{
 "cells": [
  {
   "cell_type": "code",
   "execution_count": null,
   "id": "51cca613",
   "metadata": {},
   "outputs": [],
   "source": [
    "# run against production 2024-04-18\n",
    "import pandas as pd\n",
    "from tqdm import tqdm\n",
    "from django.core.exceptions import MultipleObjectsReturned"
   ]
  },
  {
   "cell_type": "code",
   "execution_count": null,
   "id": "733e8089",
   "metadata": {},
   "outputs": [],
   "source": [
    "df = pd.read_table(\"./featureCodes_en.tsv\", sep=\"\\t\",  header=None)"
   ]
  },
  {
   "cell_type": "code",
   "execution_count": null,
   "id": "b41f79d4",
   "metadata": {},
   "outputs": [],
   "source": [
    "print(PlaceType.objects.all().count())"
   ]
  },
  {
   "cell_type": "code",
   "execution_count": null,
   "id": "f380fb44",
   "metadata": {},
   "outputs": [],
   "source": [
    "for i, row in tqdm(df.iterrows()):\n",
    "    exists = PlaceType.objects.filter(name=row[0])\n",
    "    if exists:\n",
    "        pass\n",
    "    else:\n",
    "        try:\n",
    "            new_place = PlaceType.objects.create(name=row[0], description=row[1])\n",
    "        except:\n",
    "            pass\n",
    "print(PlaceType.objects.all().count())    "
   ]
  },
  {
   "cell_type": "code",
   "execution_count": null,
   "id": "bb3f96c3",
   "metadata": {},
   "outputs": [],
   "source": []
  }
 ],
 "metadata": {
  "kernelspec": {
   "display_name": "Django Shell-Plus",
   "language": "python",
   "name": "django_extensions"
  },
  "language_info": {
   "codemirror_mode": {
    "name": "ipython",
    "version": 3
   },
   "file_extension": ".py",
   "mimetype": "text/x-python",
   "name": "python",
   "nbconvert_exporter": "python",
   "pygments_lexer": "ipython3",
   "version": "3.10.12"
  }
 },
 "nbformat": 4,
 "nbformat_minor": 5
}

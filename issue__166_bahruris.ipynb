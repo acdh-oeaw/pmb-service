{
 "cells": [
  {
   "cell_type": "code",
   "execution_count": null,
   "id": "dc76c5c6",
   "metadata": {},
   "outputs": [],
   "source": [
    "from tqdm import tqdm\n",
    "from dumper.utils import gsheet_to_df\n",
    "from apis_core.utils import get_object_from_pk_or_uri"
   ]
  },
  {
   "cell_type": "code",
   "execution_count": null,
   "id": "535d7229",
   "metadata": {},
   "outputs": [],
   "source": [
    "# still needs to run on the server\n",
    "uris = Uri.objects.filter(domain=\"bahr-textverzeichnis\")\n",
    "uris.count()\n",
    "for x in tqdm(uris):\n",
    "    x.domain = \"bahr-TSN\"\n",
    "    x.save()\n",
    "print(Uri.objects.filter(domain=\"bahr-textverzeichnis\").count())\n",
    "print(Uri.objects.filter(domain=\"bahr-TSN\").count())"
   ]
  },
  {
   "cell_type": "markdown",
   "id": "b7f33cc2",
   "metadata": {},
   "source": [
    "## run 2024-03-01"
   ]
  },
  {
   "cell_type": "code",
   "execution_count": null,
   "id": "be08e451",
   "metadata": {},
   "outputs": [],
   "source": [
    "uris = Uri.objects.filter(uri__startswith=\"https://hermanbahrtextverzeichnis\")\n",
    "uris.count()"
   ]
  },
  {
   "cell_type": "code",
   "execution_count": null,
   "id": "f2f54d7e",
   "metadata": {},
   "outputs": [],
   "source": [
    "for x in tqdm(uris):\n",
    "    x.delete()\n",
    "Uri.objects.filter(uri__startswith=\"https://hermanbahrtextverzeichnis\").count()"
   ]
  },
  {
   "cell_type": "code",
   "execution_count": null,
   "id": "ebb47f5d",
   "metadata": {},
   "outputs": [],
   "source": [
    "uris = Uri.objects.filter(uri__startswith=\"https://this-will-change/\")\n",
    "uris.count()\n",
    "for x in tqdm(uris):\n",
    "    x.delete()\n",
    "Uri.objects.filter(uri__startswith=\"https://this-will-change/\").count()"
   ]
  },
  {
   "cell_type": "code",
   "execution_count": null,
   "id": "ecd29414",
   "metadata": {},
   "outputs": [],
   "source": [
    "df = gsheet_to_df(\"1prs6ih08rQ5-n4OXotfMp6RMTWBDIYKtD-MF9sQ3Mwo\")"
   ]
  },
  {
   "cell_type": "code",
   "execution_count": null,
   "id": "23357a71",
   "metadata": {},
   "outputs": [],
   "source": [
    "for i, row in tqdm(df.iterrows()):\n",
    "    if f'{row[\"ID\"]}'[0] == \"#\":\n",
    "        rowid = row[\"ID\"][1:]\n",
    "    else:\n",
    "        rowid = row[\"ID\"]\n",
    "    entity = get_object_from_pk_or_uri(rowid)\n",
    "    new_uri, _ = Uri.objects.get_or_create(\n",
    "        uri=row[\"URI\"],\n",
    "        entity=entity,\n",
    "        domain=\"bahr-textverzeichnis\"\n",
    "    )\n",
    "  "
   ]
  }
 ],
 "metadata": {
  "kernelspec": {
   "display_name": "Django Shell-Plus",
   "language": "python",
   "name": "django_extensions"
  },
  "language_info": {
   "codemirror_mode": {
    "name": "ipython",
    "version": 3
   },
   "file_extension": ".py",
   "mimetype": "text/x-python",
   "name": "python",
   "nbconvert_exporter": "python",
   "pygments_lexer": "ipython3",
   "version": "3.10.12"
  }
 },
 "nbformat": 4,
 "nbformat_minor": 5
}

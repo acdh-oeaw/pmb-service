{
 "cells": [
  {
   "cell_type": "code",
   "execution_count": null,
   "id": "16556ed2-f178-4edd-9c4c-5639fbdcc851",
   "metadata": {},
   "outputs": [],
   "source": [
    "import pandas as pd\n",
    "import requests\n",
    "from acdh_id_reconciler import gnd_to_wikidata\n",
    "from tqdm import tqdm"
   ]
  },
  {
   "cell_type": "code",
   "execution_count": null,
   "id": "6dcbb6ef-dfa6-4ff9-b256-c3a4ce35a5bd",
   "metadata": {},
   "outputs": [],
   "source": [
    "orig_data = requests.get(\"https://raw.githubusercontent.com/Hanslick-Online/hsl-entities/refs/heads/main/json_dumps/Werke.json\").json()"
   ]
  },
  {
   "cell_type": "code",
   "execution_count": null,
   "id": "95db218e-6b72-4451-aa80-4b66af239d31",
   "metadata": {
    "scrolled": true
   },
   "outputs": [],
   "source": [
    "data = []\n",
    "for key, value in tqdm(orig_data.items(), total=len(orig_data)):\n",
    "    gnd = value[\"gnd\"]\n",
    "    if gnd:\n",
    "        try:\n",
    "            wikidata = gnd_to_wikidata(gnd)\n",
    "            wikidata[\"id\"] = key\n",
    "            data.append(wikidata)\n",
    "        except IndexError:\n",
    "            continue\n",
    "    "
   ]
  },
  {
   "cell_type": "code",
   "execution_count": null,
   "id": "67be47c8-5a4f-4d94-98b2-61d2cd6364bd",
   "metadata": {},
   "outputs": [],
   "source": [
    "data"
   ]
  },
  {
   "cell_type": "code",
   "execution_count": null,
   "id": "4be7625f-010e-4730-b4f7-0cce11d86b80",
   "metadata": {},
   "outputs": [],
   "source": [
    "df = pd.DataFrame(data)"
   ]
  },
  {
   "cell_type": "code",
   "execution_count": null,
   "id": "fae7f32c-405a-4dc9-ab5d-c6d0737e3620",
   "metadata": {},
   "outputs": [],
   "source": [
    "df.to_csv(\"hanslick-werke-wikidata.csv\", index=False)"
   ]
  },
  {
   "cell_type": "code",
   "execution_count": null,
   "id": "72f574ac-259b-4d7d-84d9-33da01a47ef1",
   "metadata": {},
   "outputs": [],
   "source": []
  }
 ],
 "metadata": {
  "kernelspec": {
   "display_name": "Django Shell-Plus",
   "language": "python",
   "name": "django_extensions"
  },
  "language_info": {
   "codemirror_mode": {
    "name": "ipython",
    "version": 3
   },
   "file_extension": ".py",
   "mimetype": "text/x-python",
   "name": "python",
   "nbconvert_exporter": "python",
   "pygments_lexer": "ipython3",
   "version": "3.12.3"
  }
 },
 "nbformat": 4,
 "nbformat_minor": 5
}

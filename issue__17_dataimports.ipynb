{
 "cells": [
  {
   "cell_type": "code",
   "execution_count": null,
   "id": "d7335a42",
   "metadata": {},
   "outputs": [],
   "source": [
    "from acdh_tei_pyutils.tei import TeiReader\n",
    "from tqdm import tqdm\n",
    "from icecream import ic\n",
    "from normdata.utils import import_from_normdata"
   ]
  },
  {
   "cell_type": "code",
   "execution_count": null,
   "id": "dd68245d",
   "metadata": {},
   "outputs": [],
   "source": [
    "source_file = \"https://github.com/hermann-bahr/bahr-textverzeichnis-data/raw/main/data/indices/listperson.xml\""
   ]
  },
  {
   "cell_type": "code",
   "execution_count": null,
   "id": "570aec42",
   "metadata": {},
   "outputs": [],
   "source": [
    "doc = TeiReader(source_file)"
   ]
  },
  {
   "cell_type": "code",
   "execution_count": null,
   "id": "070e76d4",
   "metadata": {},
   "outputs": [],
   "source": [
    "nsmap = doc.nsmap\n",
    "bahr_url = \"https://hermanbahrtextverzeichnis/\"\n",
    "bahr_domain = \"hermanbahrtextverzeichnis\"\n",
    "bahr_col, _ = Collection.objects.get_or_create(name=\"Bahr Textverzeichnis\")"
   ]
  },
  {
   "cell_type": "code",
   "execution_count": null,
   "id": "b6d54fa4",
   "metadata": {},
   "outputs": [],
   "source": [
    "no_gnd = set()\n",
    "no_wikidata = set()\n",
    "not_created = set()\n",
    "for x in tqdm(doc.any_xpath(\".//tei:person\")):\n",
    "    entity = False\n",
    "    hbtv_uri = x.xpath(\".//tei:idno[@type='HB-tv']/text()\", namespaces=nsmap)[0]\n",
    "    hbtv_url = f\"{bahr_url}{hbtv_uri}\"\n",
    "    try:\n",
    "        gnd = x.xpath(\".//tei:idno[@type='gnd']/text()\", namespaces=nsmap)[0]\n",
    "        entity = import_from_normdata(gnd, 'person')\n",
    "    except IndexError:\n",
    "        no_gnd.add(hbtv_uri)\n",
    "        try:\n",
    "            wikidata = x.xpath(\".//tei:idno[@type='wikidata']/text()\", namespaces=nsmap)[0]\n",
    "            entity = import_from_normdata(gnd, 'person')\n",
    "        except IndexError:\n",
    "            no_wikidata.add(hbtv_uri)\n",
    "            not_created.add(hbtv_uri)\n",
    "    if entity:\n",
    "        entity.collection.add(bahr_col)\n",
    "        uri, _ = Uri.objects.get_or_create(uri=hbtv_url, domain=bahr_domain)\n",
    "        uri.entity = entity\n",
    "        uri.save()\n",
    "   "
   ]
  },
  {
   "cell_type": "code",
   "execution_count": null,
   "id": "08ac5108",
   "metadata": {},
   "outputs": [],
   "source": [
    "len(not_created)"
   ]
  },
  {
   "cell_type": "code",
   "execution_count": null,
   "id": "78f67f70",
   "metadata": {},
   "outputs": [],
   "source": []
  }
 ],
 "metadata": {
  "kernelspec": {
   "display_name": "Django Shell-Plus",
   "language": "python",
   "name": "django_extensions"
  },
  "language_info": {
   "codemirror_mode": {
    "name": "ipython",
    "version": 3
   },
   "file_extension": ".py",
   "mimetype": "text/x-python",
   "name": "python",
   "nbconvert_exporter": "python",
   "pygments_lexer": "ipython3",
   "version": "3.10.12"
  }
 },
 "nbformat": 4,
 "nbformat_minor": 5
}

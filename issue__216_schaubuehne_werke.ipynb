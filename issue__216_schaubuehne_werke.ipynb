{
 "cells": [
  {
   "cell_type": "code",
   "execution_count": null,
   "id": "419591bd-d2a3-44de-b161-35a5cc54b0cb",
   "metadata": {},
   "outputs": [],
   "source": [
    "import pandas as pd\n",
    "\n",
    "from csae_pyutils import gsheet_to_df\n",
    "from django.core.exceptions import ObjectDoesNotExist\n",
    "from tqdm import tqdm\n",
    "from normdata.utils import import_from_normdata"
   ]
  },
  {
   "cell_type": "code",
   "execution_count": null,
   "id": "04125009-ef36-4565-8d93-3e3a5c1ac529",
   "metadata": {
    "scrolled": true
   },
   "outputs": [],
   "source": [
    "df = gsheet_to_df(\"1aygcH8NTUuDVGSJVIVj1fyI4ATPv0x1Bt8vSLb76z3k\").fillna(\"\")"
   ]
  },
  {
   "cell_type": "code",
   "execution_count": null,
   "id": "f577fcaa",
   "metadata": {},
   "outputs": [],
   "source": [
    "BASE_URL = \"https://schaubuehne.oeaw.ac.at\""
   ]
  },
  {
   "cell_type": "code",
   "execution_count": null,
   "id": "e27a36b8-87ae-4a1f-adc3-d12bb87cf56c",
   "metadata": {},
   "outputs": [],
   "source": [
    "df = df[df[\"authorId\"] != \"\"]\n",
    "df[\"volume\"] = df[\"volume\"].astype(str).str.zfill(2)\n",
    "df[\"half\"] = df[\"half\"].astype(str).str.zfill(2)\n",
    "df[\"issue\"] = df[\"issue\"].astype(str).str.zfill(2)\n",
    "df[\"pageNo\"] = df[\"pageNo\"].astype(str).str.zfill(4)"
   ]
  },
  {
   "cell_type": "code",
   "execution_count": null,
   "id": "90db3101-1ecd-4aa7-8833-570332fc3c8e",
   "metadata": {
    "vscode": {
     "languageId": "javascript"
    }
   },
   "outputs": [],
   "source": [
    "df['author_url'] = BASE_URL + \"/register.html?author=\" + df['authorId'].astype(int).astype(str)"
   ]
  },
  {
   "cell_type": "code",
   "execution_count": null,
   "id": "065ea6d2",
   "metadata": {},
   "outputs": [],
   "source": [
    "df['issue_url'] = BASE_URL + \"/issuenew-\" + df[\"volume\"] + \"-\" + df[\"half\"] + \"-\" + df['issue'] + \".html#page=n\" + df[\"pageNo\"]"
   ]
  },
  {
   "cell_type": "code",
   "execution_count": null,
   "id": "3a9430d5",
   "metadata": {},
   "outputs": [],
   "source": [
    "df[\"label\"] = \"Die Schaubühne, \" + df[\"displayText\"] + \", S. \" + df[\"pageNo\"].astype(int).astype(str)"
   ]
  },
  {
   "cell_type": "code",
   "execution_count": null,
   "id": "ccf347d4",
   "metadata": {},
   "outputs": [],
   "source": [
    "df.to_csv(\"hansi.csv\", index=False)"
   ]
  },
  {
   "cell_type": "code",
   "execution_count": null,
   "id": "2471410d",
   "metadata": {},
   "outputs": [],
   "source": [
    "col, _ = Collection.objects.get_or_create(name=\"Die Schaubühne\")\n",
    "domain = \"schaubuehne\"\n",
    "col_type, _ = CollectionType.objects.get_or_create(name=\"Projekt\")\n",
    "col.description = \"\"\"\n",
    "„Die Schaubühne. Herausgeber: Siegfried Jacobsohn, Berlin 1905–1918“. Digitale Edition. Hrsg. v. Imelda Rohrbacher. Wien: Österreichische Akademie der Wissenschaften (ÖAW) 2024, <a href=\"https://schaubuehne.oeaw.ac.at\">https://schaubuehne.oeaw.ac.at</a>\n",
    "\"\"\"\n",
    "col.collection_type = col_type\n",
    "col.save()\n",
    "person_work = PersonWorkRelation.objects.get(id=1049)"
   ]
  },
  {
   "cell_type": "code",
   "execution_count": null,
   "id": "89a65262",
   "metadata": {},
   "outputs": [],
   "source": [
    "for i, row in tqdm(df.iterrows(), total=len(df)):\n",
    "    domain_uri = row[\"issue_url\"]\n",
    "    \n",
    "    try:\n",
    "        uri = Uri.objects.get(uri=domain_uri)\n",
    "        entity = uri.entity\n",
    "        entity = Work.objects.get(id=entity.id)\n",
    "    except ObjectDoesNotExist:\n",
    "        item = {\n",
    "            \"name\": row[\"title\"],\n",
    "            \"start_date_written\": row[\"date\"]\n",
    "        }\n",
    "        entity = Work.objects.create(**item)\n",
    "        entity.collection.add(col)\n",
    "        uri, _ = Uri.objects.get_or_create(uri=domain_uri, domain=domain)\n",
    "        uri.entity = entity\n",
    "        uri.save()\n",
    "    try:\n",
    "        author_uri = Uri.objects.get(uri=row[\"author_url\"])\n",
    "    except ObjectDoesNotExist:\n",
    "        continue\n",
    "    author_ent = author_uri.entity\n",
    "    author = Person.objects.get(id=author_ent.id)\n",
    "    geschaffen, _ = PersonWork.objects.get_or_create(\n",
    "        related_person=author,\n",
    "        related_work=entity,\n",
    "        start_date_written=row[\"date\"],\n",
    "        relation_type=person_work\n",
    "    )"
   ]
  },
  {
   "cell_type": "code",
   "execution_count": null,
   "id": "80888edc-1a33-47b5-9ccb-be0431860268",
   "metadata": {},
   "outputs": [],
   "source": [
    "# items = Work.objects.filter(collection__name=\"Die Schaubühne\")\n",
    "# items.delete()"
   ]
  },
  {
   "cell_type": "code",
   "execution_count": null,
   "id": "51fb5a62-4589-4459-810e-4c0639f9c40a",
   "metadata": {},
   "outputs": [],
   "source": [
    "# items = Uri.objects.filter(uri__icontains=\"issuenew\")\n",
    "# items.delete()"
   ]
  },
  {
   "cell_type": "code",
   "execution_count": null,
   "id": "62a4d4ea-1244-44a6-9d1f-9ab1dba6af24",
   "metadata": {},
   "outputs": [],
   "source": [
    "# ToDo: Labels"
   ]
  }
 ],
 "metadata": {
  "kernelspec": {
   "display_name": "Django Shell-Plus",
   "language": "python",
   "name": "django_extensions"
  },
  "language_info": {
   "codemirror_mode": {
    "name": "ipython",
    "version": 3
   },
   "file_extension": ".py",
   "mimetype": "text/x-python",
   "name": "python",
   "nbconvert_exporter": "python",
   "pygments_lexer": "ipython3",
   "version": "3.12.3"
  }
 },
 "nbformat": 4,
 "nbformat_minor": 5
}

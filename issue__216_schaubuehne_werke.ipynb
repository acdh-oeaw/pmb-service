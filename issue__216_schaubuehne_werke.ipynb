{
 "cells": [
  {
   "cell_type": "code",
   "execution_count": null,
   "id": "419591bd-d2a3-44de-b161-35a5cc54b0cb",
   "metadata": {},
   "outputs": [],
   "source": [
    "import pandas as pd\n",
    "\n",
    "from csae_pyutils import gsheet_to_df\n",
    "from django.core.exceptions import ObjectDoesNotExist\n",
    "from tqdm import tqdm\n"
   ]
  },
  {
   "cell_type": "code",
   "execution_count": null,
   "id": "04125009-ef36-4565-8d93-3e3a5c1ac529",
   "metadata": {
    "scrolled": true
   },
   "outputs": [],
   "source": [
    "df = gsheet_to_df(\"1aygcH8NTUuDVGSJVIVj1fyI4ATPv0x1Bt8vSLb76z3k\").fillna(\"\")"
   ]
  },
  {
   "cell_type": "code",
   "execution_count": null,
   "id": "f577fcaa",
   "metadata": {},
   "outputs": [],
   "source": [
    "BASE_URL = \"https://schaubuehne.oeaw.ac.at\""
   ]
  },
  {
   "cell_type": "code",
   "execution_count": null,
   "id": "e27a36b8-87ae-4a1f-adc3-d12bb87cf56c",
   "metadata": {},
   "outputs": [],
   "source": [
    "df = df[df[\"authorId\"] != \"\"]\n",
    "df[\"volume\"] = df[\"volume\"].astype(str).str.zfill(2)\n",
    "df[\"half\"] = df[\"half\"].astype(str).str.zfill(2)\n",
    "df[\"issue\"] = df[\"issue\"].astype(str).str.zfill(2)\n",
    "df[\"pageNo\"] = df[\"pageNo\"].astype(str).str.zfill(4)"
   ]
  },
  {
   "cell_type": "code",
   "execution_count": null,
   "id": "90db3101-1ecd-4aa7-8833-570332fc3c8e",
   "metadata": {
    "vscode": {
     "languageId": "javascript"
    }
   },
   "outputs": [],
   "source": [
    "df['author_url'] = BASE_URL + \"/register.html?author=\" + df['authorId'].astype(int).astype(str)"
   ]
  },
  {
   "cell_type": "code",
   "execution_count": null,
   "id": "065ea6d2",
   "metadata": {},
   "outputs": [],
   "source": [
    "df['issue_url'] = BASE_URL + \"/issuenew-\" + df[\"volume\"] + \"-\" + df[\"half\"] + \"-\" + df['issue'] + \".html#page=n\" + df[\"pageNo\"]"
   ]
  },
  {
   "cell_type": "code",
   "execution_count": null,
   "id": "3a9430d5",
   "metadata": {},
   "outputs": [],
   "source": [
    "df[\"label\"] = \"Die Schaubühne, \" + df[\"displayText\"] + \", S. \" + df[\"pageNo\"].astype(int).astype(str)"
   ]
  },
  {
   "cell_type": "code",
   "execution_count": null,
   "id": "ccf347d4",
   "metadata": {},
   "outputs": [],
   "source": [
    "df.to_csv(\"hansi.csv\", index=False)"
   ]
  },
  {
   "cell_type": "code",
   "execution_count": null,
   "id": "2471410d",
   "metadata": {},
   "outputs": [],
   "source": []
  },
  {
   "cell_type": "code",
   "execution_count": null,
   "id": "89a65262",
   "metadata": {},
   "outputs": [],
   "source": []
  }
 ],
 "metadata": {
  "kernelspec": {
   "display_name": "venv",
   "language": "python",
   "name": "python3"
  },
  "language_info": {
   "codemirror_mode": {
    "name": "ipython",
    "version": 3
   },
   "file_extension": ".py",
   "mimetype": "text/x-python",
   "name": "python",
   "nbconvert_exporter": "python",
   "pygments_lexer": "ipython3",
   "version": "3.12.3"
  }
 },
 "nbformat": 4,
 "nbformat_minor": 5
}

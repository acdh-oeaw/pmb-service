{
 "cells": [
  {
   "cell_type": "code",
   "execution_count": null,
   "id": "d7335a42",
   "metadata": {},
   "outputs": [],
   "source": [
    "from acdh_tei_pyutils.tei import TeiReader\n",
    "from acdh_tei_pyutils.utils import get_xmlid, normalize_string\n",
    "from tqdm import tqdm\n",
    "from icecream import ic\n",
    "from normdata.utils import import_from_normdata"
   ]
  },
  {
   "cell_type": "code",
   "execution_count": null,
   "id": "dd68245d",
   "metadata": {},
   "outputs": [],
   "source": [
    "source_file = \"https://github.com/hermann-bahr/bahr-index/raw/main/tsn/listPerson_TSN_1.xml\""
   ]
  },
  {
   "cell_type": "code",
   "execution_count": null,
   "id": "570aec42",
   "metadata": {},
   "outputs": [],
   "source": [
    "doc = TeiReader(source_file)"
   ]
  },
  {
   "cell_type": "code",
   "execution_count": null,
   "id": "070e76d4",
   "metadata": {},
   "outputs": [],
   "source": [
    "nsmap = doc.nsmap\n",
    "bahr_url = \"https://hermanbahrtextverzeichnis/\"\n",
    "bahr_domain = \"hermanbahrtextverzeichnis\"\n",
    "bahr_col, _ = Collection.objects.get_or_create(name=\"Bahr Textverzeichnis\")"
   ]
  },
  {
   "cell_type": "code",
   "execution_count": null,
   "id": "b6d54fa4",
   "metadata": {},
   "outputs": [],
   "source": [
    "no_gnd = set()\n",
    "no_wikidata = set()\n",
    "not_created = set()\n",
    "for x in tqdm(doc.any_xpath(\".//tei:person\")):\n",
    "    entity = False\n",
    "    hbtv_uri = x.xpath(\".//tei:idno[@type='TSN']/text()\", namespaces=nsmap)[0]\n",
    "    hbtv_url = f\"{bahr_url}{hbtv_uri}\"\n",
    "    try:\n",
    "        gnd = x.xpath(\".//tei:idno[@type='gnd']/text()\", namespaces=nsmap)[0]\n",
    "        entity = import_from_normdata(gnd, 'person')\n",
    "    except IndexError:\n",
    "        no_gnd.add(hbtv_uri)\n",
    "        try:\n",
    "            wikidata = x.xpath(\".//tei:idno[@type='wikidata']/text()\", namespaces=nsmap)[0]\n",
    "            wikidata_url = f\"http://www.wikidata.org/entity/{wikidata}\"\n",
    "            entity = import_from_normdata(wikidata_url, 'person')\n",
    "        except IndexError:\n",
    "            no_wikidata.add(hbtv_uri)\n",
    "            not_created.add(hbtv_uri)\n",
    "    if entity:\n",
    "        entity.collection.add(bahr_col)\n",
    "        uri, _ = Uri.objects.get_or_create(uri=hbtv_url, domain=bahr_domain)\n",
    "        uri.entity = entity\n",
    "        uri.save()\n",
    "   "
   ]
  },
  {
   "cell_type": "code",
   "execution_count": null,
   "id": "08ac5108",
   "metadata": {},
   "outputs": [],
   "source": [
    "print(\"now import entities without normdata records\")"
   ]
  },
  {
   "cell_type": "code",
   "execution_count": null,
   "id": "aa7a2300",
   "metadata": {},
   "outputs": [],
   "source": [
    "for x in tqdm(doc.any_xpath(\".//tei:person\")):\n",
    "    if len(x.xpath(\".//tei:idno\", namespaces=nsmap)) == 1:\n",
    "        hbtv_uri = x.xpath(\".//tei:idno[@type='TSN']/text()\", namespaces=nsmap)[0]\n",
    "        hbtv_url = f\"{bahr_url}{hbtv_uri}\"\n",
    "        uri, _ = Uri.objects.get_or_create(uri=hbtv_url, domain=bahr_domain)\n",
    "        if uri.entity:\n",
    "            continue\n",
    "        else:\n",
    "            try:\n",
    "                name = x.xpath(\"./tei:persName[1]/tei:surname[1]/text()\", namespaces=nsmap)[0]\n",
    "            except IndexError:\n",
    "                name = \"\"\n",
    "            try:\n",
    "                first_name = x.xpath(\"./tei:persName[1]/tei:forename[1]/text()\", namespaces=nsmap)[0]\n",
    "            except IndexError:\n",
    "                first_name = \"\"\n",
    "            try:\n",
    "                start_date_written = x.xpath(\"./tei:birth/tei:date/text()\", namespaces=nsmap)[0]\n",
    "            except IndexError:\n",
    "                start_date_written = \"\"\n",
    "            try:\n",
    "                end_date_written = x.xpath(\"./tei:death/tei:date/text()\", namespaces=nsmap)[0]\n",
    "            except IndexError:\n",
    "                end_date_written = \"\"\n",
    "            try:\n",
    "                gender = x.xpath(\"./tei:sex\", namespaces=nsmap)[0]\n",
    "                gender = gender.attrib[\"value\"]\n",
    "            except IndexError:\n",
    "                gender = \"\"\n",
    "            entity = Person.objects.create(\n",
    "                name=name,\n",
    "                first_name=first_name,\n",
    "                start_date_written=start_date_written,\n",
    "                end_date_written=end_date_written,\n",
    "                gender=gender\n",
    "            )\n",
    "            entity.collection.add(bahr_col)\n",
    "            uri.entity = entity\n",
    "            uri.save()"
   ]
  },
  {
   "cell_type": "code",
   "execution_count": null,
   "id": "40ff7ca2",
   "metadata": {},
   "outputs": [],
   "source": [
    "for x in tqdm(doc.any_xpath(\".//tei:person[./tei:occupation]\")):\n",
    "    hbtv_uri = x.xpath(\".//tei:idno[@type='TSN']/text()\", namespaces=nsmap)[0]\n",
    "    hbtv_url = f\"{bahr_url}{hbtv_uri}\"\n",
    "    try:\n",
    "        uri = Uri.objects.get(uri=hbtv_url, domain=bahr_domain)\n",
    "    except:\n",
    "        ic(hbtv_url)\n",
    "    try:\n",
    "        entity = uri.entity.get_child_entity()\n",
    "    except:\n",
    "        ic(uri)\n",
    "        continue\n",
    "    for o in x.xpath(\"./tei:occupation/text()\", namespaces=nsmap):\n",
    "        profession, _ = ProfessionType.objects.get_or_create(name=o)\n",
    "        entity.profession.add(profession)"
   ]
  },
  {
   "cell_type": "code",
   "execution_count": null,
   "id": "77e897d5",
   "metadata": {},
   "outputs": [],
   "source": [
    "for x in tqdm(doc.any_xpath(\".//tei:person[@xml:id][./tei:listBibl]\")):\n",
    "    ref = []\n",
    "    for y in x.xpath(\".//tei:bibl[./tei:biblScope]\", namespaces=nsmap):\n",
    "        volume = y.xpath(\"./tei:biblScope[@unit='volume']\", namespaces=nsmap)[0].text\n",
    "        page = y.xpath(\"./tei:biblScope[@unit='page']\", namespaces=nsmap)[0].text\n",
    "        if volume.endswith(\".\"):\n",
    "            volume = normalize_string(volume[:-1])\n",
    "        try:\n",
    "            page = f\"S. {normalize_string(page)}\"\n",
    "        except AttributeError:\n",
    "            continue\n",
    "        quote = f\"{volume}, {page}.\"\n",
    "        ref.append(quote)\n",
    "    all_quotes = (\" *** \".join(ref))  \n",
    "        \n",
    "    hbtv_uri = get_xmlid(x)\n",
    "    work_uri = f\"{bahr_url}{hbtv_uri}\"\n",
    "    work = Uri.objects.get(uri=work_uri).entity.get_child_entity()\n",
    "    orig_ref = work.references\n",
    "    if orig_ref:\n",
    "        if all_quotes in orig_ref:\n",
    "            continue\n",
    "    try:\n",
    "        new_ref = orig_ref + \"\\n\" + all_quotes\n",
    "    except TypeError:\n",
    "        new_ref = \"\\n\" + all_quotes\n",
    "    work.references = new_ref\n",
    "    work.save()"
   ]
  },
  {
   "cell_type": "code",
   "execution_count": null,
   "id": "67ccffad",
   "metadata": {},
   "outputs": [],
   "source": []
  }
 ],
 "metadata": {
  "kernelspec": {
   "display_name": "Django Shell-Plus",
   "language": "python",
   "name": "django_extensions"
  },
  "language_info": {
   "codemirror_mode": {
    "name": "ipython",
    "version": 3
   },
   "file_extension": ".py",
   "mimetype": "text/x-python",
   "name": "python",
   "nbconvert_exporter": "python",
   "pygments_lexer": "ipython3",
   "version": "3.10.12"
  }
 },
 "nbformat": 4,
 "nbformat_minor": 5
}

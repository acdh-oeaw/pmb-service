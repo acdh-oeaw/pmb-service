{
 "cells": [
  {
   "cell_type": "code",
   "execution_count": 1,
   "id": "73b5462d",
   "metadata": {},
   "outputs": [],
   "source": [
    "uris = Uri.objects.filter(domain__icontains=\"default\")"
   ]
  },
  {
   "cell_type": "code",
   "execution_count": 2,
   "id": "6fe59152",
   "metadata": {},
   "outputs": [
    {
     "data": {
      "text/plain": [
       "<QuerySet [<Uri: https://pmb.acdh.oeaw.ac.at/entity/148271/>, <Uri: https://pmb.acdh.oeaw.ac.at/entity/148275/>]>"
      ]
     },
     "execution_count": 2,
     "metadata": {},
     "output_type": "execute_result"
    }
   ],
   "source": [
    "uris"
   ]
  },
  {
   "cell_type": "code",
   "execution_count": null,
   "id": "3046b3cd",
   "metadata": {},
   "outputs": [],
   "source": []
  }
 ],
 "metadata": {
  "kernelspec": {
   "display_name": "Django Shell-Plus",
   "language": "python",
   "name": "django_extensions"
  },
  "language_info": {
   "codemirror_mode": {
    "name": "ipython",
    "version": 3
   },
   "file_extension": ".py",
   "mimetype": "text/x-python",
   "name": "python",
   "nbconvert_exporter": "python",
   "pygments_lexer": "ipython3",
   "version": "3.10.12"
  }
 },
 "nbformat": 4,
 "nbformat_minor": 5
}

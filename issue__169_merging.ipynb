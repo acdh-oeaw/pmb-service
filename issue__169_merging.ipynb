{
 "cells": [
  {
   "cell_type": "code",
   "execution_count": null,
   "id": "6385a169",
   "metadata": {},
   "outputs": [],
   "source": [
    "# still needs to run on the server\n",
    "\n",
    "from apis_core.utils import get_object_from_pk_or_uri\n",
    "from dumper.utils import gsheet_to_df"
   ]
  },
  {
   "cell_type": "code",
   "execution_count": null,
   "id": "4d3fbd45",
   "metadata": {},
   "outputs": [],
   "source": [
    "df = gsheet_to_df(\"1uP_Nnyku-9mvINKeuggyjh2t3VZkK4kJGsPm0xueI1o\")"
   ]
  },
  {
   "cell_type": "code",
   "execution_count": null,
   "id": "73a39289",
   "metadata": {},
   "outputs": [],
   "source": [
    "for i, row in df.iterrows():\n",
    "    keep = get_object_from_pk_or_uri(row[\"ID\"])\n",
    "    remove = get_object_from_pk_or_uri(row[\"merge\"])\n",
    "    try:\n",
    "        keep.merge_with(remove.id)\n",
    "    except Exception as e:\n",
    "        print(keep.id, remove.id, e)"
   ]
  },
  {
   "cell_type": "code",
   "execution_count": null,
   "id": "de1484e7",
   "metadata": {},
   "outputs": [],
   "source": []
  }
 ],
 "metadata": {
  "kernelspec": {
   "display_name": "Django Shell-Plus",
   "language": "python",
   "name": "django_extensions"
  },
  "language_info": {
   "codemirror_mode": {
    "name": "ipython",
    "version": 3
   },
   "file_extension": ".py",
   "mimetype": "text/x-python",
   "name": "python",
   "nbconvert_exporter": "python",
   "pygments_lexer": "ipython3",
   "version": "3.10.12"
  }
 },
 "nbformat": 4,
 "nbformat_minor": 5
}

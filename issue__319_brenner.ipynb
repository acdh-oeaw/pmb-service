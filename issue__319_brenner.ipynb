{
 "cells": [
  {
   "cell_type": "code",
   "execution_count": null,
   "id": "814142e9-4358-4562-be4d-85c26ce19f26",
   "metadata": {},
   "outputs": [],
   "source": [
    "from csae_pyutils import gsheet_to_df\n",
    "from tqdm import tqdm\n",
    "import pandas as pd\n",
    "from normdata.utils import import_from_normdata"
   ]
  },
  {
   "cell_type": "code",
   "execution_count": null,
   "id": "4f22914b-db89-435c-b62b-6ab71a596ad7",
   "metadata": {},
   "outputs": [],
   "source": [
    "df = gsheet_to_df(\"1Txis3KRl9iO2Ft3Y0HbZL7WZ6ZrBQrd2jwfDNAqgQKA\")"
   ]
  },
  {
   "cell_type": "code",
   "execution_count": null,
   "id": "ea7f3549-36d6-4729-ac26-b8c99b60ac70",
   "metadata": {},
   "outputs": [],
   "source": [
    "col, _ = Collection.objects.get_or_create(name=\"Der Brenner\")\n",
    "domain = \"brenner\"\n",
    "col_type, _ = CollectionType.objects.get_or_create(name=\"Projekt\")\n",
    "col.description = \"https://brenner.oeaw.ac.at/\"\n",
    "col.collection_type = col_type\n",
    "col.save()"
   ]
  },
  {
   "cell_type": "code",
   "execution_count": null,
   "id": "665657b4-4def-43ef-9f67-4bd5c49f4a9e",
   "metadata": {},
   "outputs": [],
   "source": [
    "broken_gnd = []\n",
    "pmb_uris = []\n",
    "for i, row in tqdm(df.head(20).iterrows()):\n",
    "    if isinstance(row[\"gnd\"], str):\n",
    "        gnd_uri = row[\"gnd\"].replace(\"https://reconcile.gnd.network/gnd\", \"https://d-nb.info/gnd\")\n",
    "        domain_uri = f\"https://brenner.oeaw.ac.at/?p=brenner{row['code']}\".replace(\"_\", \"\")\n",
    "        entity = import_from_normdata(gnd_uri, \"person\")\n",
    "        if entity:\n",
    "            pmb_uri, _ = Uri.objects.get_or_create(uri=domain_uri, domain=domain)\n",
    "            pmb_uri.entity = entity\n",
    "            pmb_uri.save()\n",
    "            entity.collection.add(col)\n",
    "            pmb_uris.append([row['code'], entity.id])\n",
    "        else:\n",
    "            broken_gnd.append(gnd_uri)\n"
   ]
  },
  {
   "cell_type": "code",
   "execution_count": null,
   "id": "f8d12199-7772-4cf3-8bbf-d30035b93bc9",
   "metadata": {},
   "outputs": [],
   "source": [
    "df = pd.DataFrame(pmb_uris)\n",
    "df.to_csv('brenner_pmb.csv', index=False)"
   ]
  },
  {
   "cell_type": "code",
   "execution_count": null,
   "id": "04bbc78d-4a61-4a9c-815b-97842a5c00ac",
   "metadata": {},
   "outputs": [],
   "source": [
    "df = pd.DataFrame(broken_gnd)\n",
    "df.to_csv('brenner_broken_gnd.csv', index=False)"
   ]
  },
  {
   "cell_type": "code",
   "execution_count": null,
   "id": "9be66b79-0ec5-4f19-9703-23e01b180b00",
   "metadata": {},
   "outputs": [],
   "source": []
  }
 ],
 "metadata": {
  "kernelspec": {
   "display_name": "Django Shell-Plus",
   "language": "python",
   "name": "django_extensions"
  },
  "language_info": {
   "codemirror_mode": {
    "name": "ipython",
    "version": 3
   },
   "file_extension": ".py",
   "mimetype": "text/x-python",
   "name": "python",
   "nbconvert_exporter": "python",
   "pygments_lexer": "ipython3",
   "version": "3.12.3"
  }
 },
 "nbformat": 4,
 "nbformat_minor": 5
}

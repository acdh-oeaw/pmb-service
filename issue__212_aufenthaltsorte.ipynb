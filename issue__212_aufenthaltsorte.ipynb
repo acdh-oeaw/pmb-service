{
 "cells": [
  {
   "cell_type": "code",
   "execution_count": null,
   "id": "f37d96db-8052-4bba-964f-ba644e57c398",
   "metadata": {},
   "outputs": [],
   "source": [
    "# ToDo: run against production\n",
    "from django.core.exceptions import ObjectDoesNotExist\n",
    "from tqdm import tqdm\n",
    "from dumper.utils import gsheet_to_df\n",
    "from apis_core.utils import get_object_from_pk_or_uri"
   ]
  },
  {
   "cell_type": "code",
   "execution_count": null,
   "id": "4cdb69b2-5f6a-4536-8723-c970d2e462fe",
   "metadata": {},
   "outputs": [],
   "source": [
    "relation_type = PersonPlaceRelation.objects.get(id=1181)\n",
    "relation_type"
   ]
  },
  {
   "cell_type": "code",
   "execution_count": null,
   "id": "8f5018a7-b945-4c76-896b-cc39fd63715d",
   "metadata": {},
   "outputs": [],
   "source": [
    "df = gsheet_to_df(\"13ZccvGh6nZwL4h8ZKn8W9COGtRjVVZT6gu4EtyW9Bi8\")"
   ]
  },
  {
   "cell_type": "code",
   "execution_count": null,
   "id": "021d8f39-c172-47cf-b0c2-51afbddc2a8a",
   "metadata": {},
   "outputs": [],
   "source": [
    "df"
   ]
  },
  {
   "cell_type": "code",
   "execution_count": null,
   "id": "0b272dfc-9558-4f13-a956-7de4b665336b",
   "metadata": {},
   "outputs": [],
   "source": [
    "no_places = set()\n",
    "for g, ndf in df.groupby(\"source_id\"):\n",
    "    person = Person.objects.get(id=g)\n",
    "    print(person)\n",
    "    for i, row in tqdm(ndf.iterrows()):\n",
    "        try:\n",
    "            place = Place.objects.get(id=row[\"target_id\"])\n",
    "        except ObjectDoesNotExist:\n",
    "            no_places.add(row[\"target_id\"])\n",
    "            continue\n",
    "        rel, _ = PersonPlace.objects.get_or_create(\n",
    "            related_person=person,\n",
    "            related_place=place,\n",
    "            relation_type=relation_type,\n",
    "            start_date_written=row[\"relation_start_date_written\"],\n",
    "            end_date_written=row[\"relation_end_date_written\"]\n",
    "        )"
   ]
  },
  {
   "cell_type": "code",
   "execution_count": null,
   "id": "8e43ed78-abd3-40cf-b2c0-6975495b98b8",
   "metadata": {},
   "outputs": [],
   "source": []
  }
 ],
 "metadata": {
  "kernelspec": {
   "display_name": "Django Shell-Plus",
   "language": "python",
   "name": "django_extensions"
  },
  "language_info": {
   "codemirror_mode": {
    "name": "ipython",
    "version": 3
   },
   "file_extension": ".py",
   "mimetype": "text/x-python",
   "name": "python",
   "nbconvert_exporter": "python",
   "pygments_lexer": "ipython3",
   "version": "3.12.3"
  }
 },
 "nbformat": 4,
 "nbformat_minor": 5
}

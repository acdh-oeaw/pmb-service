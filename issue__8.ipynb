{
 "cells": [
  {
   "cell_type": "code",
   "execution_count": null,
   "id": "2fe08400",
   "metadata": {},
   "outputs": [],
   "source": [
    "from tqdm import tqdm\n",
    "from dumper.utils import gsheet_to_df"
   ]
  },
  {
   "cell_type": "code",
   "execution_count": null,
   "id": "a98754b2",
   "metadata": {},
   "outputs": [],
   "source": [
    "pmb_uri = \"https://pmb.acdh.oeaw.ac.at/entity/{}/\""
   ]
  },
  {
   "cell_type": "code",
   "execution_count": null,
   "id": "08522f35",
   "metadata": {},
   "outputs": [],
   "source": [
    "df = gsheet_to_df(\"14pqKPvNUFn-U2TBMAP1PpToGOSgI6_fwlhqDu-o4YtQ\")"
   ]
  },
  {
   "cell_type": "code",
   "execution_count": null,
   "id": "765494d8",
   "metadata": {},
   "outputs": [],
   "source": [
    "places = Place.objects.filter(uri__uri__icontains=\"schnitzler-tagebuch\")"
   ]
  },
  {
   "cell_type": "code",
   "execution_count": null,
   "id": "f47bcd68",
   "metadata": {},
   "outputs": [],
   "source": [
    "uris = []\n",
    "for x in tqdm(places):\n",
    "    for y in x.uri_set.all():\n",
    "        if \"schnitzler-tagebuch\" in y.uri:\n",
    "            uris.append(y)"
   ]
  },
  {
   "cell_type": "code",
   "execution_count": null,
   "id": "f820cd7f",
   "metadata": {},
   "outputs": [],
   "source": [
    "len(uris)"
   ]
  },
  {
   "cell_type": "code",
   "execution_count": null,
   "id": "fe06fca6",
   "metadata": {},
   "outputs": [],
   "source": [
    "for x in tqdm(uris):\n",
    "    x.delete()"
   ]
  },
  {
   "cell_type": "code",
   "execution_count": null,
   "id": "f8fc5b7d",
   "metadata": {},
   "outputs": [],
   "source": [
    "for i, row in tqdm(df.iterrows(), total=len(df)):\n",
    "    ent_uri = pmb_uri.format(row[\"ID\"])\n",
    "    uri = Uri.objects.get(uri=ent_uri)\n",
    "    temp_ent = uri.entity\n",
    "    ent = temp_ent.get_child_entity()\n",
    "    new_uri, _ = Uri.objects.get_or_create(\n",
    "        uri=row[\"URL\"],\n",
    "        domain=\"schnitzler-tagebuch\",\n",
    "        entity=ent\n",
    "    )"
   ]
  },
  {
   "cell_type": "code",
   "execution_count": null,
   "id": "04f28151",
   "metadata": {},
   "outputs": [],
   "source": []
  }
 ],
 "metadata": {
  "kernelspec": {
   "display_name": "Django Shell-Plus",
   "language": "python",
   "name": "django_extensions"
  },
  "language_info": {
   "codemirror_mode": {
    "name": "ipython",
    "version": 3
   },
   "file_extension": ".py",
   "mimetype": "text/x-python",
   "name": "python",
   "nbconvert_exporter": "python",
   "pygments_lexer": "ipython3",
   "version": "3.10.12"
  }
 },
 "nbformat": 4,
 "nbformat_minor": 5
}

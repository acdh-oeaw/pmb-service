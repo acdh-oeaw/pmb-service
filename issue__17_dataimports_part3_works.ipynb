{
 "cells": [
  {
   "cell_type": "markdown",
   "id": "e494e20e",
   "metadata": {},
   "source": [
    "ausgeführt 2024-01-31"
   ]
  },
  {
   "cell_type": "code",
   "execution_count": 14,
   "id": "d7335a42",
   "metadata": {},
   "outputs": [],
   "source": [
    "from acdh_tei_pyutils.tei import TeiReader\n",
    "from acdh_tei_pyutils.utils import get_xmlid, normalize_string\n",
    "from tqdm import tqdm\n",
    "from icecream import ic\n",
    "from normdata.utils import import_from_normdata"
   ]
  },
  {
   "cell_type": "code",
   "execution_count": 2,
   "id": "dd68245d",
   "metadata": {},
   "outputs": [],
   "source": [
    "source_file = \"https://raw.githubusercontent.com/hermann-bahr/bahr-index/main/tsn/listwork_TSN_1.xml\""
   ]
  },
  {
   "cell_type": "code",
   "execution_count": 3,
   "id": "570aec42",
   "metadata": {},
   "outputs": [],
   "source": [
    "doc = TeiReader(source_file)"
   ]
  },
  {
   "cell_type": "code",
   "execution_count": 4,
   "id": "070e76d4",
   "metadata": {},
   "outputs": [],
   "source": [
    "nsmap = doc.nsmap\n",
    "bahr_url = \"https://hermanbahrtextverzeichnis/\"\n",
    "bahr_domain = \"hermanbahrtextverzeichnis\"\n",
    "bahr_col, _ = Collection.objects.get_or_create(name=\"Bahr Textverzeichnis\")"
   ]
  },
  {
   "cell_type": "code",
   "execution_count": null,
   "id": "b6d54fa4",
   "metadata": {},
   "outputs": [],
   "source": [
    "for x in tqdm(doc.any_xpath(\".//tei:bibl[@xml:id]\")):\n",
    "    entity = False\n",
    "    try:\n",
    "        hbtv_uri = get_xmlid(x)\n",
    "    except KeyError:\n",
    "        continue\n",
    "    hbtv_url = f\"{bahr_url}{hbtv_uri}\"\n",
    "    uri, _ = Uri.objects.get_or_create(uri=hbtv_url, domain=bahr_domain)\n",
    "    try:\n",
    "        name = x.xpath(\"./tei:title[1]/text()\", namespaces=nsmap)[0]    \n",
    "    except IndexError:\n",
    "        print(hbtv_url)\n",
    "        continue\n",
    "    try:\n",
    "        entity = uri.entity.get_child_entity()\n",
    "    except:\n",
    "        entity = Work.objects.create(name=name)\n",
    "        entity.collection.add(bahr_col)\n",
    "        uri.entity = entity\n",
    "        uri.save()"
   ]
  },
  {
   "cell_type": "code",
   "execution_count": null,
   "id": "353041a0",
   "metadata": {},
   "outputs": [],
   "source": [
    "personwork_type= PersonWorkRelation.objects.get(id=1049)"
   ]
  },
  {
   "cell_type": "code",
   "execution_count": null,
   "id": "77e897d5",
   "metadata": {},
   "outputs": [],
   "source": [
    "for x in tqdm(doc.any_xpath(\".//tei:bibl[@xml:id][./tei:author[./@ref]]\")):\n",
    "    hbtv_uri = get_xmlid(x)\n",
    "    work_uri = f\"{bahr_url}{hbtv_uri}\"\n",
    "    author_ref = x.xpath(\"./tei:author/@ref\", namespaces=nsmap)[0]\n",
    "    author_uri = f\"{bahr_url}{author_ref}\"\n",
    "    try:\n",
    "        author = Uri.objects.get(uri=author_uri).entity.get_child_entity()\n",
    "    except:\n",
    "        continue\n",
    "    work = Uri.objects.get(uri=work_uri).entity.get_child_entity()\n",
    "    PersonWork.objects.get_or_create(related_person=author, related_work=work, relation_type=personwork_type)\n",
    "    "
   ]
  },
  {
   "cell_type": "markdown",
   "id": "b20fc88f",
   "metadata": {},
   "source": [
    "ToDo: run this against production db"
   ]
  },
  {
   "cell_type": "code",
   "execution_count": 37,
   "id": "cb921b17",
   "metadata": {},
   "outputs": [
    {
     "name": "stderr",
     "output_type": "stream",
     "text": [
      "100%|████████████████████████████████████████████████████████████████████████████████████████████████████████████| 2148/2148 [00:27<00:00, 79.08it/s]\n"
     ]
    }
   ],
   "source": [
    "for x in tqdm(doc.any_xpath(\".//tei:bibl[@xml:id][./tei:listBibl]\")):\n",
    "    ref = []\n",
    "    for y in x.xpath(\".//tei:bibl[./tei:biblScope]\", namespaces=nsmap):\n",
    "        volume = y.xpath(\"./tei:biblScope[@unit='volume']\", namespaces=nsmap)[0].text\n",
    "        page = y.xpath(\"./tei:biblScope[@unit='page']\", namespaces=nsmap)[0].text\n",
    "        if volume.endswith(\".\"):\n",
    "            volume = normalize_string(volume[:-1])\n",
    "        try:\n",
    "            page = f\"S. {normalize_string(page)}\"\n",
    "        except AttributeError:\n",
    "            continue\n",
    "        quote = f\"{volume}, {page}.\"\n",
    "        ref.append(quote)\n",
    "    all_quotes = (\" *** \".join(ref))\n",
    "    if len(quote) > 2:\n",
    "        more.append(all_quotes)     \n",
    "        \n",
    "    hbtv_uri = get_xmlid(x)\n",
    "    work_uri = f\"{bahr_url}{hbtv_uri}\"\n",
    "    work = Uri.objects.get(uri=work_uri).entity.get_child_entity()\n",
    "    orig_ref = work.references\n",
    "    if orig_ref:\n",
    "        if all_quotes in orig_ref:\n",
    "            continue\n",
    "    try:\n",
    "        new_ref = orig_ref + \"\\n\" + all_quotes\n",
    "    except TypeError:\n",
    "        new_ref = \"\\n\" + all_quotes\n",
    "    work.references = new_ref\n",
    "    work.save()"
   ]
  },
  {
   "cell_type": "code",
   "execution_count": null,
   "id": "bc9b9e25",
   "metadata": {},
   "outputs": [],
   "source": []
  }
 ],
 "metadata": {
  "kernelspec": {
   "display_name": "Django Shell-Plus",
   "language": "python",
   "name": "django_extensions"
  },
  "language_info": {
   "codemirror_mode": {
    "name": "ipython",
    "version": 3
   },
   "file_extension": ".py",
   "mimetype": "text/x-python",
   "name": "python",
   "nbconvert_exporter": "python",
   "pygments_lexer": "ipython3",
   "version": "3.10.12"
  }
 },
 "nbformat": 4,
 "nbformat_minor": 5
}

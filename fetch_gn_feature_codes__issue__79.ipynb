{
 "cells": [
  {
   "cell_type": "markdown",
   "id": "080b69c6",
   "metadata": {},
   "source": [
    "# fetching gnd feature code descriptions"
   ]
  },
  {
   "cell_type": "code",
   "execution_count": null,
   "id": "85431463",
   "metadata": {},
   "outputs": [],
   "source": [
    "from acdh_tei_pyutils.tei import TeiReader\n",
    "from acdh_tei_pyutils.utils import extract_fulltext\n",
    "from tqdm import tqdm"
   ]
  },
  {
   "cell_type": "code",
   "execution_count": null,
   "id": "b3ac05c4",
   "metadata": {},
   "outputs": [],
   "source": [
    "nsmap = {\n",
    "    \"gn\": \"https://www.geonames.org/ontology#\",\n",
    "    \"skos\": \"http://www.w3.org/2004/02/skos/core#\",\n",
    "    \"rdf\": \"http://www.w3.org/1999/02/22-rdf-syntax-ns#\"\n",
    "}"
   ]
  },
  {
   "cell_type": "code",
   "execution_count": null,
   "id": "b393e39d",
   "metadata": {},
   "outputs": [],
   "source": [
    "doc = TeiReader(\"https://www.geonames.org/ontology/ontology_v3.3.rdf\")"
   ]
  },
  {
   "cell_type": "code",
   "execution_count": null,
   "id": "00e1887c",
   "metadata": {},
   "outputs": [],
   "source": [
    "place_types = PlaceType.objects.filter(name__icontains=\"http\")\n",
    "for x in tqdm(place_types):\n",
    "    name = x.name.split('#')[-1]\n",
    "    x.name = name\n",
    "    x.save()    "
   ]
  },
  {
   "cell_type": "code",
   "execution_count": null,
   "id": "04d1cd5f",
   "metadata": {},
   "outputs": [],
   "source": [
    "place_types = PlaceType.objects.exclude(name__icontains=\"(\").filter(name__icontains=\".\")"
   ]
  },
  {
   "cell_type": "code",
   "execution_count": null,
   "id": "ab9370d4",
   "metadata": {},
   "outputs": [],
   "source": [
    "for x in tqdm(place_types):\n",
    "    xpath_expr = f'.//gn:Code[@rdf:about=\"#{x.name}\"]/skos:definition[@xml:lang=\"en\"]'\n",
    "    try:\n",
    "        description = doc.tree.xpath(xpath_expr, namespaces=nsmap)[0]\n",
    "    except IndexError:\n",
    "        continue\n",
    "    x.description = f\"{extract_fulltext(description).title()}. Quelle: https://www.geonames.org/ontology/ontology_v3.3.rdf\"\n",
    "    x.save()"
   ]
  }
 ],
 "metadata": {
  "kernelspec": {
   "display_name": "Django Shell-Plus",
   "language": "python",
   "name": "django_extensions"
  },
  "language_info": {
   "codemirror_mode": {
    "name": "ipython",
    "version": 3
   },
   "file_extension": ".py",
   "mimetype": "text/x-python",
   "name": "python",
   "nbconvert_exporter": "python",
   "pygments_lexer": "ipython3",
   "version": "3.10.12"
  }
 },
 "nbformat": 4,
 "nbformat_minor": 5
}

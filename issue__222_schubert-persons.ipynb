{
 "cells": [
  {
   "cell_type": "code",
   "execution_count": null,
   "id": "996db3a8-afd9-478d-9786-dd0275216e9e",
   "metadata": {},
   "outputs": [],
   "source": [
    "from acdh_tei_pyutils.tei import TeiReader"
   ]
  },
  {
   "cell_type": "code",
   "execution_count": null,
   "id": "36b53039-f80b-4b29-b6f7-029e6f0da76d",
   "metadata": {},
   "outputs": [],
   "source": [
    "doc = TeiReader(\"https://schubert-digital.at/export/personen.xml\")"
   ]
  },
  {
   "cell_type": "code",
   "execution_count": null,
   "id": "2598232e-8193-4fa5-8159-918d4ca6e76c",
   "metadata": {},
   "outputs": [],
   "source": [
    "nsmap = {\"tei\": \"http://www.music-encoding.org/ns/mei\"}\n",
    "col, _ = Collection.objects.get_or_create(name=\"Schubert Digital\")\n",
    "domain = \"schubert-digital\""
   ]
  },
  {
   "cell_type": "code",
   "execution_count": null,
   "id": "080d64de-e40b-4aa3-94a0-adcc59c2c508",
   "metadata": {},
   "outputs": [],
   "source": [
    "for x in doc.tree.xpath(\".//tei:persName[@xml:id]\", namespaces=nsmap):\n",
    "    try:\n",
    "        gnd = x.xpath(\".//tei:identifier[@auth='GND']\", namespaces=nsmap)[0].text\n",
    "    except:\n",
    "        gnd = False\n",
    "        continue\n",
    "    if gnd:\n",
    "        xml_id = x.xpath(\".//tei:identifier[@label='Schubert-Personenregister-ID']/text()\", namespaces=nsmap)[0]\n",
    "        uri = f\"https://schubert-digital.at/P-00004.html{xml_id}\"\n",
    "        print(uri, gnd)"
   ]
  },
  {
   "cell_type": "code",
   "execution_count": null,
   "id": "69207701-41c4-4151-b36a-037613baa634",
   "metadata": {},
   "outputs": [],
   "source": []
  }
 ],
 "metadata": {
  "kernelspec": {
   "display_name": "Django Shell-Plus",
   "language": "python",
   "name": "django_extensions"
  },
  "language_info": {
   "codemirror_mode": {
    "name": "ipython",
    "version": 3
   },
   "file_extension": ".py",
   "mimetype": "text/x-python",
   "name": "python",
   "nbconvert_exporter": "python",
   "pygments_lexer": "ipython3",
   "version": "3.12.3"
  }
 },
 "nbformat": 4,
 "nbformat_minor": 5
}
